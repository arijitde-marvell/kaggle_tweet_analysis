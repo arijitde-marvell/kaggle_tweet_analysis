{
 "cells": [
  {
   "cell_type": "code",
   "execution_count": 1,
   "metadata": {
    "_cell_guid": "b1076dfc-b9ad-4769-8c92-a6c4dae69d19",
    "_uuid": "8f2839f25d086af736a60e9eeb907d3b93b6e0e5"
   },
   "outputs": [],
   "source": [
    "# This Python 3 environment comes with many helpful analytics libraries installed\n",
    "# It is defined by the kaggle/python docker image: https://github.com/kaggle/docker-python\n",
    "# For example, here's several helpful packages to load in \n",
    "\n",
    "import numpy as np # linear algebra\n",
    "import pandas as pd # data processing, CSV file I/O (e.g. pd.read_csv)\n",
    "\n",
    "# Input data files are available in the \"../input/\" directory.\n",
    "# For example, running this (by clicking run or pressing Shift+Enter) will list all files under the input directory\n",
    "\n",
    "import os\n",
    "for dirname, _, filenames in os.walk('/kaggle/input'):\n",
    "    for filename in filenames:\n",
    "        print(os.path.join(dirname, filename))\n",
    "\n",
    "# Any results you write to the current directory are saved as output."
   ]
  },
  {
   "cell_type": "code",
   "execution_count": 2,
   "metadata": {},
   "outputs": [],
   "source": [
    "import seaborn as sb\n",
    "import matplotlib.pyplot as plt\n",
    "import re\n",
    "import nltk\n",
    "import spacy\n",
    "import string\n",
    "from collections import Counter\n",
    "#pd.set_option('display.max_rows', 500)\n",
    "#pd.set_option('display.max_columns', 500)\n",
    "#pd.set_option('display.width', 1000)"
   ]
  },
  {
   "cell_type": "markdown",
   "metadata": {},
   "source": [
    "# Check the data"
   ]
  },
  {
   "cell_type": "code",
   "execution_count": 3,
   "metadata": {
    "_cell_guid": "79c7e3d0-c299-4dcb-8224-4455121ee9b0",
    "_uuid": "d629ff2d2480ee46fbb7e2d37f6b5fab8052498a"
   },
   "outputs": [],
   "source": [
    "#twdata=pd.read_csv('/kaggle/input/nlp-getting-started/train.csv')\n",
    "#testdata=pd.read_csv('/kaggle/input/nlp-getting-started/test.csv')\n",
    "twdata=pd.read_csv('train.csv')\n",
    "testdata=pd.read_csv('test.csv')"
   ]
  },
  {
   "cell_type": "code",
   "execution_count": 4,
   "metadata": {},
   "outputs": [
    {
     "data": {
      "text/html": [
       "<div>\n",
       "<style scoped>\n",
       "    .dataframe tbody tr th:only-of-type {\n",
       "        vertical-align: middle;\n",
       "    }\n",
       "\n",
       "    .dataframe tbody tr th {\n",
       "        vertical-align: top;\n",
       "    }\n",
       "\n",
       "    .dataframe thead th {\n",
       "        text-align: right;\n",
       "    }\n",
       "</style>\n",
       "<table border=\"1\" class=\"dataframe\">\n",
       "  <thead>\n",
       "    <tr style=\"text-align: right;\">\n",
       "      <th></th>\n",
       "      <th>id</th>\n",
       "      <th>keyword</th>\n",
       "      <th>location</th>\n",
       "      <th>text</th>\n",
       "      <th>target</th>\n",
       "    </tr>\n",
       "  </thead>\n",
       "  <tbody>\n",
       "    <tr>\n",
       "      <td>0</td>\n",
       "      <td>1</td>\n",
       "      <td>NaN</td>\n",
       "      <td>NaN</td>\n",
       "      <td>Our Deeds are the Reason of this #earthquake M...</td>\n",
       "      <td>1</td>\n",
       "    </tr>\n",
       "    <tr>\n",
       "      <td>1</td>\n",
       "      <td>4</td>\n",
       "      <td>NaN</td>\n",
       "      <td>NaN</td>\n",
       "      <td>Forest fire near La Ronge Sask. Canada</td>\n",
       "      <td>1</td>\n",
       "    </tr>\n",
       "    <tr>\n",
       "      <td>2</td>\n",
       "      <td>5</td>\n",
       "      <td>NaN</td>\n",
       "      <td>NaN</td>\n",
       "      <td>All residents asked to 'shelter in place' are ...</td>\n",
       "      <td>1</td>\n",
       "    </tr>\n",
       "    <tr>\n",
       "      <td>3</td>\n",
       "      <td>6</td>\n",
       "      <td>NaN</td>\n",
       "      <td>NaN</td>\n",
       "      <td>13,000 people receive #wildfires evacuation or...</td>\n",
       "      <td>1</td>\n",
       "    </tr>\n",
       "    <tr>\n",
       "      <td>4</td>\n",
       "      <td>7</td>\n",
       "      <td>NaN</td>\n",
       "      <td>NaN</td>\n",
       "      <td>Just got sent this photo from Ruby #Alaska as ...</td>\n",
       "      <td>1</td>\n",
       "    </tr>\n",
       "  </tbody>\n",
       "</table>\n",
       "</div>"
      ],
      "text/plain": [
       "   id keyword location                                               text  \\\n",
       "0   1     NaN      NaN  Our Deeds are the Reason of this #earthquake M...   \n",
       "1   4     NaN      NaN             Forest fire near La Ronge Sask. Canada   \n",
       "2   5     NaN      NaN  All residents asked to 'shelter in place' are ...   \n",
       "3   6     NaN      NaN  13,000 people receive #wildfires evacuation or...   \n",
       "4   7     NaN      NaN  Just got sent this photo from Ruby #Alaska as ...   \n",
       "\n",
       "   target  \n",
       "0       1  \n",
       "1       1  \n",
       "2       1  \n",
       "3       1  \n",
       "4       1  "
      ]
     },
     "execution_count": 4,
     "metadata": {},
     "output_type": "execute_result"
    }
   ],
   "source": [
    "twdata.head()"
   ]
  },
  {
   "cell_type": "code",
   "execution_count": 5,
   "metadata": {},
   "outputs": [
    {
     "data": {
      "text/html": [
       "<div>\n",
       "<style scoped>\n",
       "    .dataframe tbody tr th:only-of-type {\n",
       "        vertical-align: middle;\n",
       "    }\n",
       "\n",
       "    .dataframe tbody tr th {\n",
       "        vertical-align: top;\n",
       "    }\n",
       "\n",
       "    .dataframe thead th {\n",
       "        text-align: right;\n",
       "    }\n",
       "</style>\n",
       "<table border=\"1\" class=\"dataframe\">\n",
       "  <thead>\n",
       "    <tr style=\"text-align: right;\">\n",
       "      <th></th>\n",
       "      <th>id</th>\n",
       "      <th>keyword</th>\n",
       "      <th>location</th>\n",
       "      <th>text</th>\n",
       "    </tr>\n",
       "  </thead>\n",
       "  <tbody>\n",
       "    <tr>\n",
       "      <td>0</td>\n",
       "      <td>0</td>\n",
       "      <td>NaN</td>\n",
       "      <td>NaN</td>\n",
       "      <td>Just happened a terrible car crash</td>\n",
       "    </tr>\n",
       "    <tr>\n",
       "      <td>1</td>\n",
       "      <td>2</td>\n",
       "      <td>NaN</td>\n",
       "      <td>NaN</td>\n",
       "      <td>Heard about #earthquake is different cities, s...</td>\n",
       "    </tr>\n",
       "    <tr>\n",
       "      <td>2</td>\n",
       "      <td>3</td>\n",
       "      <td>NaN</td>\n",
       "      <td>NaN</td>\n",
       "      <td>there is a forest fire at spot pond, geese are...</td>\n",
       "    </tr>\n",
       "    <tr>\n",
       "      <td>3</td>\n",
       "      <td>9</td>\n",
       "      <td>NaN</td>\n",
       "      <td>NaN</td>\n",
       "      <td>Apocalypse lighting. #Spokane #wildfires</td>\n",
       "    </tr>\n",
       "    <tr>\n",
       "      <td>4</td>\n",
       "      <td>11</td>\n",
       "      <td>NaN</td>\n",
       "      <td>NaN</td>\n",
       "      <td>Typhoon Soudelor kills 28 in China and Taiwan</td>\n",
       "    </tr>\n",
       "  </tbody>\n",
       "</table>\n",
       "</div>"
      ],
      "text/plain": [
       "   id keyword location                                               text\n",
       "0   0     NaN      NaN                 Just happened a terrible car crash\n",
       "1   2     NaN      NaN  Heard about #earthquake is different cities, s...\n",
       "2   3     NaN      NaN  there is a forest fire at spot pond, geese are...\n",
       "3   9     NaN      NaN           Apocalypse lighting. #Spokane #wildfires\n",
       "4  11     NaN      NaN      Typhoon Soudelor kills 28 in China and Taiwan"
      ]
     },
     "execution_count": 5,
     "metadata": {},
     "output_type": "execute_result"
    }
   ],
   "source": [
    "testdata.head()"
   ]
  },
  {
   "cell_type": "code",
   "execution_count": 6,
   "metadata": {},
   "outputs": [
    {
     "data": {
      "text/html": [
       "<div>\n",
       "<style scoped>\n",
       "    .dataframe tbody tr th:only-of-type {\n",
       "        vertical-align: middle;\n",
       "    }\n",
       "\n",
       "    .dataframe tbody tr th {\n",
       "        vertical-align: top;\n",
       "    }\n",
       "\n",
       "    .dataframe thead th {\n",
       "        text-align: right;\n",
       "    }\n",
       "</style>\n",
       "<table border=\"1\" class=\"dataframe\">\n",
       "  <thead>\n",
       "    <tr style=\"text-align: right;\">\n",
       "      <th></th>\n",
       "      <th>id</th>\n",
       "      <th>keyword</th>\n",
       "      <th>location</th>\n",
       "      <th>text</th>\n",
       "      <th>target</th>\n",
       "    </tr>\n",
       "  </thead>\n",
       "  <tbody>\n",
       "    <tr>\n",
       "      <td>6546</td>\n",
       "      <td>9367</td>\n",
       "      <td>survived</td>\n",
       "      <td>Port Harcourt, Nigeria</td>\n",
       "      <td>Nigerian boxer ?who survived sessions with Kli...</td>\n",
       "      <td>0</td>\n",
       "    </tr>\n",
       "    <tr>\n",
       "      <td>385</td>\n",
       "      <td>558</td>\n",
       "      <td>arson</td>\n",
       "      <td>NaN</td>\n",
       "      <td>Los Angeles Times: Arson suspect linked to 30 ...</td>\n",
       "      <td>1</td>\n",
       "    </tr>\n",
       "    <tr>\n",
       "      <td>5542</td>\n",
       "      <td>7907</td>\n",
       "      <td>radiation%20emergency</td>\n",
       "      <td>NaN</td>\n",
       "      <td>Who Else Wants Documents Radiation Emergency P...</td>\n",
       "      <td>0</td>\n",
       "    </tr>\n",
       "    <tr>\n",
       "      <td>2062</td>\n",
       "      <td>2956</td>\n",
       "      <td>dead</td>\n",
       "      <td>NaN</td>\n",
       "      <td>i miss my longer hair..but it was so dead anyw...</td>\n",
       "      <td>0</td>\n",
       "    </tr>\n",
       "    <tr>\n",
       "      <td>2347</td>\n",
       "      <td>3377</td>\n",
       "      <td>demolition</td>\n",
       "      <td>NaN</td>\n",
       "      <td>@czallstarwes more like demolition derby ??</td>\n",
       "      <td>0</td>\n",
       "    </tr>\n",
       "  </tbody>\n",
       "</table>\n",
       "</div>"
      ],
      "text/plain": [
       "        id                keyword                location  \\\n",
       "6546  9367               survived  Port Harcourt, Nigeria   \n",
       "385    558                  arson                     NaN   \n",
       "5542  7907  radiation%20emergency                     NaN   \n",
       "2062  2956                   dead                     NaN   \n",
       "2347  3377             demolition                     NaN   \n",
       "\n",
       "                                                   text  target  \n",
       "6546  Nigerian boxer ?who survived sessions with Kli...       0  \n",
       "385   Los Angeles Times: Arson suspect linked to 30 ...       1  \n",
       "5542  Who Else Wants Documents Radiation Emergency P...       0  \n",
       "2062  i miss my longer hair..but it was so dead anyw...       0  \n",
       "2347        @czallstarwes more like demolition derby ??       0  "
      ]
     },
     "execution_count": 6,
     "metadata": {},
     "output_type": "execute_result"
    }
   ],
   "source": [
    "# check random sample to get some more understanding on the keyword & location\n",
    "twdata.sample(n=5)"
   ]
  },
  {
   "cell_type": "code",
   "execution_count": 7,
   "metadata": {},
   "outputs": [
    {
     "data": {
      "text/plain": [
       "id             0\n",
       "keyword       61\n",
       "location    2533\n",
       "text           0\n",
       "target         0\n",
       "dtype: int64"
      ]
     },
     "execution_count": 7,
     "metadata": {},
     "output_type": "execute_result"
    }
   ],
   "source": [
    "twdata.isnull().sum()"
   ]
  },
  {
   "cell_type": "code",
   "execution_count": 8,
   "metadata": {},
   "outputs": [
    {
     "name": "stdout",
     "output_type": "stream",
     "text": [
      "training data shape (7613, 5), test data shape (3263, 4)\n"
     ]
    }
   ],
   "source": [
    "print('training data shape {}, test data shape {}'.format(twdata.shape,testdata.shape))"
   ]
  },
  {
   "cell_type": "markdown",
   "metadata": {},
   "source": [
    "# EDA"
   ]
  },
  {
   "cell_type": "markdown",
   "metadata": {},
   "source": [
    "**'location' does not contain valid data and many places they are missing. So will drop this feature.**"
   ]
  },
  {
   "cell_type": "code",
   "execution_count": null,
   "metadata": {},
   "outputs": [],
   "source": []
  },
  {
   "cell_type": "markdown",
   "metadata": {},
   "source": [
    "Analyze the \"keyword\" feature"
   ]
  },
  {
   "cell_type": "code",
   "execution_count": 9,
   "metadata": {},
   "outputs": [],
   "source": [
    "def plot_feature_col(data, col, comment):\n",
    "    keyword_dist=data[col].value_counts()\n",
    "\n",
    "    fig = plt.figure(figsize=(8, 3), dpi=100) # figsize-width,height\n",
    "\n",
    "    keyword_dist[:40].plot.bar()\n",
    "\n",
    "    plt.title(comment)\n",
    "    plt.legend([col+' count'])\n",
    "    plt.show()\n",
    "    \n",
    "    return keyword_dist"
   ]
  },
  {
   "cell_type": "code",
   "execution_count": 10,
   "metadata": {},
   "outputs": [
    {
     "data": {
      "image/png": "[encoded data removed]",
      "text/plain": [
       "<Figure size 800x300 with 1 Axes>"
      ]
     },
     "metadata": {
      "needs_background": "light"
     },
     "output_type": "display_data"
    }
   ],
   "source": [
    "keyword_dist_training = plot_feature_col(twdata, 'keyword', 'keyword Distribution in training data')"
   ]
  },
  {
   "cell_type": "code",
   "execution_count": 11,
   "metadata": {},
   "outputs": [
    {
     "data": {
      "text/plain": [
       "fatalities        45\n",
       "armageddon        42\n",
       "deluge            42\n",
       "damage            41\n",
       "sinking           41\n",
       "                  ..\n",
       "suicide%20bomb    35\n",
       "flood             35\n",
       "traumatised       35\n",
       "collapsed         35\n",
       "rescued           35\n",
       "Name: keyword, Length: 100, dtype: int64"
      ]
     },
     "execution_count": 11,
     "metadata": {},
     "output_type": "execute_result"
    }
   ],
   "source": [
    "keyword_dist_training[:100]"
   ]
  },
  {
   "cell_type": "code",
   "execution_count": 12,
   "metadata": {},
   "outputs": [
    {
     "data": {
      "text/html": [
       "<div>\n",
       "<style scoped>\n",
       "    .dataframe tbody tr th:only-of-type {\n",
       "        vertical-align: middle;\n",
       "    }\n",
       "\n",
       "    .dataframe tbody tr th {\n",
       "        vertical-align: top;\n",
       "    }\n",
       "\n",
       "    .dataframe thead th {\n",
       "        text-align: right;\n",
       "    }\n",
       "</style>\n",
       "<table border=\"1\" class=\"dataframe\">\n",
       "  <thead>\n",
       "    <tr style=\"text-align: right;\">\n",
       "      <th></th>\n",
       "      <th>id</th>\n",
       "      <th>keyword</th>\n",
       "      <th>location</th>\n",
       "      <th>text</th>\n",
       "      <th>target</th>\n",
       "    </tr>\n",
       "  </thead>\n",
       "  <tbody>\n",
       "    <tr>\n",
       "      <td>4910</td>\n",
       "      <td>6990</td>\n",
       "      <td>massacre</td>\n",
       "      <td>London</td>\n",
       "      <td>@MartynWaites It's a well-known fact that the St Valentine's Day massacre could have been avoided with some 'oompah-period' Tom Waits.</td>\n",
       "      <td>1</td>\n",
       "    </tr>\n",
       "    <tr>\n",
       "      <td>668</td>\n",
       "      <td>963</td>\n",
       "      <td>blaze</td>\n",
       "      <td>Penn Hills, PA</td>\n",
       "      <td>I liked a @YouTube video http://t.co/N95IGskd3p Minecraft: Episode 2 'Blaze Farm Beginnings!'</td>\n",
       "      <td>0</td>\n",
       "    </tr>\n",
       "    <tr>\n",
       "      <td>138</td>\n",
       "      <td>198</td>\n",
       "      <td>airplane%20accident</td>\n",
       "      <td>Salt Lake City, Utah</td>\n",
       "      <td>@crobscarla your lifetime odds of dying from an airplane accident are 1 in 8015.</td>\n",
       "      <td>0</td>\n",
       "    </tr>\n",
       "    <tr>\n",
       "      <td>1128</td>\n",
       "      <td>1626</td>\n",
       "      <td>bombed</td>\n",
       "      <td>Warwick, RI @Dollarocracy also</td>\n",
       "      <td>Storm in RI worse than last hurricane. My city&amp;amp;3others hardest hit. My yard looks like it was bombed. Around 20000K still without power</td>\n",
       "      <td>1</td>\n",
       "    </tr>\n",
       "    <tr>\n",
       "      <td>5836</td>\n",
       "      <td>8339</td>\n",
       "      <td>rubble</td>\n",
       "      <td>Dallas, Tejas</td>\n",
       "      <td>Photo: postapocalypticflimflam: Prodding around the rubble. http://t.co/Bgy4i47j70</td>\n",
       "      <td>0</td>\n",
       "    </tr>\n",
       "    <tr>\n",
       "      <td>3487</td>\n",
       "      <td>4984</td>\n",
       "      <td>explosion</td>\n",
       "      <td>Chicago, IL</td>\n",
       "      <td>@AminESPN Mencius tears are worse correct? Takes the explosion n more pain day to day right?</td>\n",
       "      <td>0</td>\n",
       "    </tr>\n",
       "    <tr>\n",
       "      <td>1227</td>\n",
       "      <td>1768</td>\n",
       "      <td>buildings%20burning</td>\n",
       "      <td>New Hampshire</td>\n",
       "      <td>Witness video shows car explode behind burning buildings on 2nd St this afternoon #Manchester  http://t.co/cgmJlSEYLo via @MikeCroninWMUR</td>\n",
       "      <td>1</td>\n",
       "    </tr>\n",
       "    <tr>\n",
       "      <td>1201</td>\n",
       "      <td>1727</td>\n",
       "      <td>buildings%20burning</td>\n",
       "      <td>Madison, GA</td>\n",
       "      <td>@_minimehh @cjoyner I must be overlooking the burning buildings? #BlackLivesMatter</td>\n",
       "      <td>1</td>\n",
       "    </tr>\n",
       "    <tr>\n",
       "      <td>7168</td>\n",
       "      <td>10272</td>\n",
       "      <td>war%20zone</td>\n",
       "      <td>We're All Mad Here</td>\n",
       "      <td>Packing for CT aka my room looks like a war zone</td>\n",
       "      <td>0</td>\n",
       "    </tr>\n",
       "    <tr>\n",
       "      <td>7595</td>\n",
       "      <td>10850</td>\n",
       "      <td>NaN</td>\n",
       "      <td>NaN</td>\n",
       "      <td>NWS: Flash Flood Warning Continued for Shelby County until 08:00 PM Wednesday. http://t.co/nZ7ACKRrJi #tnwx</td>\n",
       "      <td>1</td>\n",
       "    </tr>\n",
       "  </tbody>\n",
       "</table>\n",
       "</div>"
      ],
      "text/plain": [
       "         id              keyword                        location  \\\n",
       "4910   6990             massacre                          London   \n",
       "668     963                blaze                  Penn Hills, PA   \n",
       "138     198  airplane%20accident            Salt Lake City, Utah   \n",
       "1128   1626               bombed  Warwick, RI @Dollarocracy also   \n",
       "5836   8339               rubble                   Dallas, Tejas   \n",
       "3487   4984            explosion                     Chicago, IL   \n",
       "1227   1768  buildings%20burning                   New Hampshire   \n",
       "1201   1727  buildings%20burning                     Madison, GA   \n",
       "7168  10272           war%20zone              We're All Mad Here   \n",
       "7595  10850                  NaN                             NaN   \n",
       "\n",
       "                                                                                                                                             text  \\\n",
       "4910       @MartynWaites It's a well-known fact that the St Valentine's Day massacre could have been avoided with some 'oompah-period' Tom Waits.   \n",
       "668                                                 I liked a @YouTube video http://t.co/N95IGskd3p Minecraft: Episode 2 'Blaze Farm Beginnings!'   \n",
       "138                                                              @crobscarla your lifetime odds of dying from an airplane accident are 1 in 8015.   \n",
       "1128  Storm in RI worse than last hurricane. My city&amp;3others hardest hit. My yard looks like it was bombed. Around 20000K still without power   \n",
       "5836                                                           Photo: postapocalypticflimflam: Prodding around the rubble. http://t.co/Bgy4i47j70   \n",
       "3487                                                 @AminESPN Mencius tears are worse correct? Takes the explosion n more pain day to day right?   \n",
       "1227    Witness video shows car explode behind burning buildings on 2nd St this afternoon #Manchester  http://t.co/cgmJlSEYLo via @MikeCroninWMUR   \n",
       "1201                                                           @_minimehh @cjoyner I must be overlooking the burning buildings? #BlackLivesMatter   \n",
       "7168                                                                                             Packing for CT aka my room looks like a war zone   \n",
       "7595                                  NWS: Flash Flood Warning Continued for Shelby County until 08:00 PM Wednesday. http://t.co/nZ7ACKRrJi #tnwx   \n",
       "\n",
       "      target  \n",
       "4910       1  \n",
       "668        0  \n",
       "138        0  \n",
       "1128       1  \n",
       "5836       0  \n",
       "3487       0  \n",
       "1227       1  \n",
       "1201       1  \n",
       "7168       0  \n",
       "7595       1  "
      ]
     },
     "execution_count": 12,
     "metadata": {},
     "output_type": "execute_result"
    }
   ],
   "source": [
    "pd.options.display.max_colwidth = 200  # set a value as required for better visualization\n",
    "\n",
    "twdata.sample(n=10)"
   ]
  },
  {
   "cell_type": "markdown",
   "metadata": {},
   "source": [
    "**Check the test data keyword distribution**"
   ]
  },
  {
   "cell_type": "code",
   "execution_count": 13,
   "metadata": {},
   "outputs": [
    {
     "data": {
      "image/png": "[encoded data removed]",
      "text/plain": [
       "<Figure size 800x300 with 1 Axes>"
      ]
     },
     "metadata": {
      "needs_background": "light"
     },
     "output_type": "display_data"
    }
   ],
   "source": [
    "# check the keyword distribution using plot\n",
    "keyword_dist_test = plot_feature_col(testdata, 'keyword', 'keyword Distribution in test data')"
   ]
  },
  {
   "cell_type": "code",
   "execution_count": 14,
   "metadata": {},
   "outputs": [
    {
     "data": {
      "text/plain": [
       "deluged                23\n",
       "rubble                 22\n",
       "demolished             22\n",
       "obliteration           21\n",
       "first%20responders     21\n",
       "                       ..\n",
       "volcano                15\n",
       "buildings%20burning    15\n",
       "demolition             15\n",
       "screams                15\n",
       "hazardous              15\n",
       "Name: keyword, Length: 100, dtype: int64"
      ]
     },
     "execution_count": 14,
     "metadata": {},
     "output_type": "execute_result"
    }
   ],
   "source": [
    "keyword_dist_test[:100]"
   ]
  },
  {
   "cell_type": "markdown",
   "metadata": {},
   "source": [
    "**From the above analysis its observed that most of the times keyword's are allready present in the text and some time not.**\n",
    "**Also many keyword's are common in training & test data.**\n",
    "**Will combine the keyword and text features for further analysis**"
   ]
  },
  {
   "cell_type": "code",
   "execution_count": 15,
   "metadata": {},
   "outputs": [],
   "source": [
    "# for keyword fill the NaN values as NAN, will remove the same later\n",
    "twdata['keyword'].fillna('NAN', inplace=True)\n",
    "testdata['keyword'].fillna('NAN', inplace=True)"
   ]
  },
  {
   "cell_type": "code",
   "execution_count": 16,
   "metadata": {},
   "outputs": [],
   "source": [
    "twdata['text']=twdata['text'] + \" \" + twdata['keyword']\n",
    "testdata['text']=testdata['text'] + \" \" + testdata['keyword']"
   ]
  },
  {
   "cell_type": "code",
   "execution_count": 17,
   "metadata": {},
   "outputs": [
    {
     "data": {
      "text/html": [
       "<div>\n",
       "<style scoped>\n",
       "    .dataframe tbody tr th:only-of-type {\n",
       "        vertical-align: middle;\n",
       "    }\n",
       "\n",
       "    .dataframe tbody tr th {\n",
       "        vertical-align: top;\n",
       "    }\n",
       "\n",
       "    .dataframe thead th {\n",
       "        text-align: right;\n",
       "    }\n",
       "</style>\n",
       "<table border=\"1\" class=\"dataframe\">\n",
       "  <thead>\n",
       "    <tr style=\"text-align: right;\">\n",
       "      <th></th>\n",
       "      <th>id</th>\n",
       "      <th>keyword</th>\n",
       "      <th>location</th>\n",
       "      <th>text</th>\n",
       "      <th>target</th>\n",
       "    </tr>\n",
       "  </thead>\n",
       "  <tbody>\n",
       "    <tr>\n",
       "      <td>5371</td>\n",
       "      <td>7663</td>\n",
       "      <td>panic</td>\n",
       "      <td>NaN</td>\n",
       "      <td>we was all just laughing and talking junk now everyone in panic mode panic</td>\n",
       "      <td>0</td>\n",
       "    </tr>\n",
       "    <tr>\n",
       "      <td>2579</td>\n",
       "      <td>3697</td>\n",
       "      <td>destroy</td>\n",
       "      <td>Nigeria</td>\n",
       "      <td>@elgeotaofeeq that's not my take from his piece. Not putting that ambition in check will destroy the change we voted for the change we seek destroy</td>\n",
       "      <td>0</td>\n",
       "    </tr>\n",
       "    <tr>\n",
       "      <td>890</td>\n",
       "      <td>1288</td>\n",
       "      <td>bloody</td>\n",
       "      <td>England,UK,Europe,Sol 3.</td>\n",
       "      <td>@LauradeHolanda I have the Forrest version from '83 that's bloody awful as well :))) xxx bloody</td>\n",
       "      <td>0</td>\n",
       "    </tr>\n",
       "    <tr>\n",
       "      <td>1434</td>\n",
       "      <td>2069</td>\n",
       "      <td>casualty</td>\n",
       "      <td>El Dorado, KS</td>\n",
       "      <td>@ThomasHCrown My grandfather was set to be in the first groups of Marines to hit Japan in Operation Olympic. 95% casualty rate predictions casualty</td>\n",
       "      <td>1</td>\n",
       "    </tr>\n",
       "    <tr>\n",
       "      <td>2325</td>\n",
       "      <td>3341</td>\n",
       "      <td>demolished</td>\n",
       "      <td>Medford, Oregon</td>\n",
       "      <td>'Dangerous' property in downtown Phoenix demolished  http://t.co/hiBDw7d7ja demolished</td>\n",
       "      <td>0</td>\n",
       "    </tr>\n",
       "  </tbody>\n",
       "</table>\n",
       "</div>"
      ],
      "text/plain": [
       "        id     keyword                  location  \\\n",
       "5371  7663       panic                       NaN   \n",
       "2579  3697     destroy                   Nigeria   \n",
       "890   1288      bloody  England,UK,Europe,Sol 3.   \n",
       "1434  2069    casualty             El Dorado, KS   \n",
       "2325  3341  demolished           Medford, Oregon   \n",
       "\n",
       "                                                                                                                                                     text  \\\n",
       "5371                                                                           we was all just laughing and talking junk now everyone in panic mode panic   \n",
       "2579  @elgeotaofeeq that's not my take from his piece. Not putting that ambition in check will destroy the change we voted for the change we seek destroy   \n",
       "890                                                       @LauradeHolanda I have the Forrest version from '83 that's bloody awful as well :))) xxx bloody   \n",
       "1434  @ThomasHCrown My grandfather was set to be in the first groups of Marines to hit Japan in Operation Olympic. 95% casualty rate predictions casualty   \n",
       "2325                                                               'Dangerous' property in downtown Phoenix demolished  http://t.co/hiBDw7d7ja demolished   \n",
       "\n",
       "      target  \n",
       "5371       0  \n",
       "2579       0  \n",
       "890        0  \n",
       "1434       1  \n",
       "2325       0  "
      ]
     },
     "execution_count": 17,
     "metadata": {},
     "output_type": "execute_result"
    }
   ],
   "source": [
    "twdata.sample(5)"
   ]
  },
  {
   "cell_type": "code",
   "execution_count": 18,
   "metadata": {},
   "outputs": [
    {
     "data": {
      "text/html": [
       "<div>\n",
       "<style scoped>\n",
       "    .dataframe tbody tr th:only-of-type {\n",
       "        vertical-align: middle;\n",
       "    }\n",
       "\n",
       "    .dataframe tbody tr th {\n",
       "        vertical-align: top;\n",
       "    }\n",
       "\n",
       "    .dataframe thead th {\n",
       "        text-align: right;\n",
       "    }\n",
       "</style>\n",
       "<table border=\"1\" class=\"dataframe\">\n",
       "  <thead>\n",
       "    <tr style=\"text-align: right;\">\n",
       "      <th></th>\n",
       "      <th>id</th>\n",
       "      <th>keyword</th>\n",
       "      <th>location</th>\n",
       "      <th>text</th>\n",
       "    </tr>\n",
       "  </thead>\n",
       "  <tbody>\n",
       "    <tr>\n",
       "      <td>1112</td>\n",
       "      <td>3673</td>\n",
       "      <td>destroy</td>\n",
       "      <td>NaN</td>\n",
       "      <td>But bad people kiss too. Hehe\\nTheir kisses can destroy. destroy</td>\n",
       "    </tr>\n",
       "    <tr>\n",
       "      <td>879</td>\n",
       "      <td>2901</td>\n",
       "      <td>damage</td>\n",
       "      <td>Buzz City</td>\n",
       "      <td>@VZWSupport Zero damage just a horrible product damage</td>\n",
       "    </tr>\n",
       "    <tr>\n",
       "      <td>612</td>\n",
       "      <td>1998</td>\n",
       "      <td>bush%20fires</td>\n",
       "      <td>NaN</td>\n",
       "      <td>Bushfire causes first victim in Albania ::  The multiple fires in Albania have caused the first vict http://t.co/yuba6XmBlq #Bush bush%20fires</td>\n",
       "    </tr>\n",
       "    <tr>\n",
       "      <td>2614</td>\n",
       "      <td>8730</td>\n",
       "      <td>sinking</td>\n",
       "      <td>Washington, DC</td>\n",
       "      <td>Sinking. {part 2}\\n??????\\n#buildingmuseum #TheBEACHDC #VSCOcam #acreativedc #dc #dctography #vscodcÛ_ https://t.co/SsD9ign6HO sinking</td>\n",
       "    </tr>\n",
       "    <tr>\n",
       "      <td>1556</td>\n",
       "      <td>5239</td>\n",
       "      <td>fatality</td>\n",
       "      <td>Bobba Island</td>\n",
       "      <td>'come from south like ya name asher d' big h does come with some fatality bars in his minor lotm 'battle' fatality</td>\n",
       "    </tr>\n",
       "  </tbody>\n",
       "</table>\n",
       "</div>"
      ],
      "text/plain": [
       "        id       keyword        location  \\\n",
       "1112  3673       destroy             NaN   \n",
       "879   2901        damage      Buzz City    \n",
       "612   1998  bush%20fires             NaN   \n",
       "2614  8730       sinking  Washington, DC   \n",
       "1556  5239      fatality   Bobba Island    \n",
       "\n",
       "                                                                                                                                                text  \n",
       "1112                                                                                But bad people kiss too. Hehe\\nTheir kisses can destroy. destroy  \n",
       "879                                                                                           @VZWSupport Zero damage just a horrible product damage  \n",
       "612   Bushfire causes first victim in Albania ::  The multiple fires in Albania have caused the first vict http://t.co/yuba6XmBlq #Bush bush%20fires  \n",
       "2614         Sinking. {part 2}\\n??????\\n#buildingmuseum #TheBEACHDC #VSCOcam #acreativedc #dc #dctography #vscodcÛ_ https://t.co/SsD9ign6HO sinking  \n",
       "1556                              'come from south like ya name asher d' big h does come with some fatality bars in his minor lotm 'battle' fatality  "
      ]
     },
     "execution_count": 18,
     "metadata": {},
     "output_type": "execute_result"
    }
   ],
   "source": [
    "testdata.sample(5)"
   ]
  },
  {
   "cell_type": "code",
   "execution_count": 19,
   "metadata": {},
   "outputs": [],
   "source": [
    "# drop location & keyword column\n",
    "twdata.drop(columns=['location','keyword'],axis=1, inplace=True)\n",
    "testdata.drop(columns=['location','keyword'],axis=1, inplace=True)"
   ]
  },
  {
   "cell_type": "code",
   "execution_count": 20,
   "metadata": {},
   "outputs": [],
   "source": [
    "# verify the final tables"
   ]
  },
  {
   "cell_type": "code",
   "execution_count": 21,
   "metadata": {},
   "outputs": [
    {
     "data": {
      "text/html": [
       "<div>\n",
       "<style scoped>\n",
       "    .dataframe tbody tr th:only-of-type {\n",
       "        vertical-align: middle;\n",
       "    }\n",
       "\n",
       "    .dataframe tbody tr th {\n",
       "        vertical-align: top;\n",
       "    }\n",
       "\n",
       "    .dataframe thead th {\n",
       "        text-align: right;\n",
       "    }\n",
       "</style>\n",
       "<table border=\"1\" class=\"dataframe\">\n",
       "  <thead>\n",
       "    <tr style=\"text-align: right;\">\n",
       "      <th></th>\n",
       "      <th>id</th>\n",
       "      <th>text</th>\n",
       "      <th>target</th>\n",
       "    </tr>\n",
       "  </thead>\n",
       "  <tbody>\n",
       "    <tr>\n",
       "      <td>0</td>\n",
       "      <td>1</td>\n",
       "      <td>Our Deeds are the Reason of this #earthquake May ALLAH Forgive us all NAN</td>\n",
       "      <td>1</td>\n",
       "    </tr>\n",
       "    <tr>\n",
       "      <td>1</td>\n",
       "      <td>4</td>\n",
       "      <td>Forest fire near La Ronge Sask. Canada NAN</td>\n",
       "      <td>1</td>\n",
       "    </tr>\n",
       "  </tbody>\n",
       "</table>\n",
       "</div>"
      ],
      "text/plain": [
       "   id  \\\n",
       "0   1   \n",
       "1   4   \n",
       "\n",
       "                                                                        text  \\\n",
       "0  Our Deeds are the Reason of this #earthquake May ALLAH Forgive us all NAN   \n",
       "1                                 Forest fire near La Ronge Sask. Canada NAN   \n",
       "\n",
       "   target  \n",
       "0       1  \n",
       "1       1  "
      ]
     },
     "execution_count": 21,
     "metadata": {},
     "output_type": "execute_result"
    }
   ],
   "source": [
    "twdata.head(2)"
   ]
  },
  {
   "cell_type": "code",
   "execution_count": 22,
   "metadata": {},
   "outputs": [
    {
     "data": {
      "text/html": [
       "<div>\n",
       "<style scoped>\n",
       "    .dataframe tbody tr th:only-of-type {\n",
       "        vertical-align: middle;\n",
       "    }\n",
       "\n",
       "    .dataframe tbody tr th {\n",
       "        vertical-align: top;\n",
       "    }\n",
       "\n",
       "    .dataframe thead th {\n",
       "        text-align: right;\n",
       "    }\n",
       "</style>\n",
       "<table border=\"1\" class=\"dataframe\">\n",
       "  <thead>\n",
       "    <tr style=\"text-align: right;\">\n",
       "      <th></th>\n",
       "      <th>id</th>\n",
       "      <th>text</th>\n",
       "      <th>target</th>\n",
       "    </tr>\n",
       "  </thead>\n",
       "  <tbody>\n",
       "    <tr>\n",
       "      <td>0</td>\n",
       "      <td>1</td>\n",
       "      <td>Our Deeds are the Reason of this #earthquake May ALLAH Forgive us all NAN</td>\n",
       "      <td>1</td>\n",
       "    </tr>\n",
       "    <tr>\n",
       "      <td>1</td>\n",
       "      <td>4</td>\n",
       "      <td>Forest fire near La Ronge Sask. Canada NAN</td>\n",
       "      <td>1</td>\n",
       "    </tr>\n",
       "  </tbody>\n",
       "</table>\n",
       "</div>"
      ],
      "text/plain": [
       "   id  \\\n",
       "0   1   \n",
       "1   4   \n",
       "\n",
       "                                                                        text  \\\n",
       "0  Our Deeds are the Reason of this #earthquake May ALLAH Forgive us all NAN   \n",
       "1                                 Forest fire near La Ronge Sask. Canada NAN   \n",
       "\n",
       "   target  \n",
       "0       1  \n",
       "1       1  "
      ]
     },
     "execution_count": 22,
     "metadata": {},
     "output_type": "execute_result"
    }
   ],
   "source": [
    "twdata.head(2)"
   ]
  },
  {
   "cell_type": "code",
   "execution_count": 23,
   "metadata": {},
   "outputs": [
    {
     "data": {
      "text/plain": [
       "id        0\n",
       "text      0\n",
       "target    0\n",
       "dtype: int64"
      ]
     },
     "execution_count": 23,
     "metadata": {},
     "output_type": "execute_result"
    }
   ],
   "source": [
    "twdata.isnull().sum()"
   ]
  },
  {
   "cell_type": "code",
   "execution_count": 24,
   "metadata": {},
   "outputs": [
    {
     "data": {
      "text/plain": [
       "id      0\n",
       "text    0\n",
       "dtype: int64"
      ]
     },
     "execution_count": 24,
     "metadata": {},
     "output_type": "execute_result"
    }
   ],
   "source": [
    "testdata.isnull().sum()"
   ]
  },
  {
   "cell_type": "code",
   "execution_count": null,
   "metadata": {},
   "outputs": [],
   "source": []
  },
  {
   "cell_type": "markdown",
   "metadata": {},
   "source": [
    "**plot the 'target' to understand its distribution**"
   ]
  },
  {
   "cell_type": "code",
   "execution_count": 25,
   "metadata": {},
   "outputs": [
    {
     "data": {
      "image/png": "[encoded data removed]",
      "text/plain": [
       "<Figure size 800x300 with 1 Axes>"
      ]
     },
     "metadata": {
      "needs_background": "light"
     },
     "output_type": "display_data"
    }
   ],
   "source": [
    "target_dist_training = plot_feature_col(twdata, 'target', 'target distribution in training data')"
   ]
  },
  {
   "cell_type": "markdown",
   "metadata": {},
   "source": [
    "**there is no big gap between two different kind of taget types, will go with this as it is**"
   ]
  },
  {
   "cell_type": "code",
   "execution_count": null,
   "metadata": {},
   "outputs": [],
   "source": []
  },
  {
   "cell_type": "markdown",
   "metadata": {},
   "source": [
    "# Remove noise from data\n",
    "Here train & test data both consists of lot of noise (stop words, delimeters, special symbols, lower case etc.) that need to be removed before we process the data further."
   ]
  },
  {
   "cell_type": "code",
   "execution_count": 26,
   "metadata": {},
   "outputs": [],
   "source": [
    "def _to_lower(datax, col):\n",
    "    \"\"\" convert to lower case \"\"\"\n",
    "    datax['text'] = datax[col].apply(lambda x: x.lower())\n"
   ]
  },
  {
   "cell_type": "code",
   "execution_count": 27,
   "metadata": {},
   "outputs": [
    {
     "data": {
      "text/html": [
       "<div>\n",
       "<style scoped>\n",
       "    .dataframe tbody tr th:only-of-type {\n",
       "        vertical-align: middle;\n",
       "    }\n",
       "\n",
       "    .dataframe tbody tr th {\n",
       "        vertical-align: top;\n",
       "    }\n",
       "\n",
       "    .dataframe thead th {\n",
       "        text-align: right;\n",
       "    }\n",
       "</style>\n",
       "<table border=\"1\" class=\"dataframe\">\n",
       "  <thead>\n",
       "    <tr style=\"text-align: right;\">\n",
       "      <th></th>\n",
       "      <th>id</th>\n",
       "      <th>text</th>\n",
       "      <th>target</th>\n",
       "    </tr>\n",
       "  </thead>\n",
       "  <tbody>\n",
       "    <tr>\n",
       "      <td>0</td>\n",
       "      <td>1</td>\n",
       "      <td>our deeds are the reason of this #earthquake may allah forgive us all nan</td>\n",
       "      <td>1</td>\n",
       "    </tr>\n",
       "    <tr>\n",
       "      <td>1</td>\n",
       "      <td>4</td>\n",
       "      <td>forest fire near la ronge sask. canada nan</td>\n",
       "      <td>1</td>\n",
       "    </tr>\n",
       "  </tbody>\n",
       "</table>\n",
       "</div>"
      ],
      "text/plain": [
       "   id  \\\n",
       "0   1   \n",
       "1   4   \n",
       "\n",
       "                                                                        text  \\\n",
       "0  our deeds are the reason of this #earthquake may allah forgive us all nan   \n",
       "1                                 forest fire near la ronge sask. canada nan   \n",
       "\n",
       "   target  \n",
       "0       1  \n",
       "1       1  "
      ]
     },
     "execution_count": 27,
     "metadata": {},
     "output_type": "execute_result"
    }
   ],
   "source": [
    "_to_lower(twdata, 'text')\n",
    "twdata.head(2)"
   ]
  },
  {
   "cell_type": "code",
   "execution_count": 28,
   "metadata": {},
   "outputs": [],
   "source": [
    "# load spacy for few other cleaning\n",
    "nlp = spacy.load('en_core_web_sm')"
   ]
  },
  {
   "cell_type": "code",
   "execution_count": 29,
   "metadata": {},
   "outputs": [],
   "source": [
    "# tokenize \n",
    "twdata['clean_text']=twdata['text'].apply(lambda x: list(nlp(x)))"
   ]
  },
  {
   "cell_type": "code",
   "execution_count": 30,
   "metadata": {},
   "outputs": [
    {
     "data": {
      "text/html": [
       "<div>\n",
       "<style scoped>\n",
       "    .dataframe tbody tr th:only-of-type {\n",
       "        vertical-align: middle;\n",
       "    }\n",
       "\n",
       "    .dataframe tbody tr th {\n",
       "        vertical-align: top;\n",
       "    }\n",
       "\n",
       "    .dataframe thead th {\n",
       "        text-align: right;\n",
       "    }\n",
       "</style>\n",
       "<table border=\"1\" class=\"dataframe\">\n",
       "  <thead>\n",
       "    <tr style=\"text-align: right;\">\n",
       "      <th></th>\n",
       "      <th>id</th>\n",
       "      <th>text</th>\n",
       "      <th>target</th>\n",
       "      <th>clean_text</th>\n",
       "    </tr>\n",
       "  </thead>\n",
       "  <tbody>\n",
       "    <tr>\n",
       "      <td>0</td>\n",
       "      <td>1</td>\n",
       "      <td>our deeds are the reason of this #earthquake may allah forgive us all nan</td>\n",
       "      <td>1</td>\n",
       "      <td>[our, deeds, are, the, reason, of, this, #, earthquake, may, allah, forgive, us, all, nan]</td>\n",
       "    </tr>\n",
       "    <tr>\n",
       "      <td>1</td>\n",
       "      <td>4</td>\n",
       "      <td>forest fire near la ronge sask. canada nan</td>\n",
       "      <td>1</td>\n",
       "      <td>[forest, fire, near, la, ronge, sask, ., canada, nan]</td>\n",
       "    </tr>\n",
       "  </tbody>\n",
       "</table>\n",
       "</div>"
      ],
      "text/plain": [
       "   id  \\\n",
       "0   1   \n",
       "1   4   \n",
       "\n",
       "                                                                        text  \\\n",
       "0  our deeds are the reason of this #earthquake may allah forgive us all nan   \n",
       "1                                 forest fire near la ronge sask. canada nan   \n",
       "\n",
       "   target  \\\n",
       "0       1   \n",
       "1       1   \n",
       "\n",
       "                                                                                   clean_text  \n",
       "0  [our, deeds, are, the, reason, of, this, #, earthquake, may, allah, forgive, us, all, nan]  \n",
       "1                                       [forest, fire, near, la, ronge, sask, ., canada, nan]  "
      ]
     },
     "execution_count": 30,
     "metadata": {},
     "output_type": "execute_result"
    }
   ],
   "source": [
    "twdata.head(2)"
   ]
  },
  {
   "cell_type": "code",
   "execution_count": 31,
   "metadata": {},
   "outputs": [],
   "source": [
    "def spacy_clean(data, col):\n",
    "    # remove punctuations \n",
    "    data[col] = data[col].apply(lambda x: [t for t in x if (t.is_punct == False)])\n",
    "    \n",
    "    # remove stopwords\n",
    "    data[col] = data[col].apply(lambda x: [t for t in x if (t.is_stop == False)])\n",
    "    \n",
    "    # remove digits\n",
    "    data[col] = data[col].apply(lambda x: [t for t in x if (t.is_digit == False)])\n",
    "    \n",
    "    # lemmatize (should be done at the end)\n",
    "    data[col] = data[col].apply(lambda x: [t.lemma_ for t in x])\n",
    "    \n",
    "    # join it to get back the original sentence\n",
    "    data[col] = data[col].apply(lambda x: \" \".join(x))"
   ]
  },
  {
   "cell_type": "code",
   "execution_count": 32,
   "metadata": {},
   "outputs": [],
   "source": [
    "spacy_clean(twdata, 'clean_text')"
   ]
  },
  {
   "cell_type": "code",
   "execution_count": 33,
   "metadata": {},
   "outputs": [
    {
     "data": {
      "text/html": [
       "<div>\n",
       "<style scoped>\n",
       "    .dataframe tbody tr th:only-of-type {\n",
       "        vertical-align: middle;\n",
       "    }\n",
       "\n",
       "    .dataframe tbody tr th {\n",
       "        vertical-align: top;\n",
       "    }\n",
       "\n",
       "    .dataframe thead th {\n",
       "        text-align: right;\n",
       "    }\n",
       "</style>\n",
       "<table border=\"1\" class=\"dataframe\">\n",
       "  <thead>\n",
       "    <tr style=\"text-align: right;\">\n",
       "      <th></th>\n",
       "      <th>id</th>\n",
       "      <th>text</th>\n",
       "      <th>target</th>\n",
       "      <th>clean_text</th>\n",
       "    </tr>\n",
       "  </thead>\n",
       "  <tbody>\n",
       "    <tr>\n",
       "      <td>0</td>\n",
       "      <td>1</td>\n",
       "      <td>our deeds are the reason of this #earthquake may allah forgive us all nan</td>\n",
       "      <td>1</td>\n",
       "      <td>deed reason earthquake allah forgive nan</td>\n",
       "    </tr>\n",
       "    <tr>\n",
       "      <td>1</td>\n",
       "      <td>4</td>\n",
       "      <td>forest fire near la ronge sask. canada nan</td>\n",
       "      <td>1</td>\n",
       "      <td>forest fire near la ronge sask canada nan</td>\n",
       "    </tr>\n",
       "    <tr>\n",
       "      <td>2</td>\n",
       "      <td>5</td>\n",
       "      <td>all residents asked to 'shelter in place' are being notified by officers. no other evacuation or shelter in place orders are expected nan</td>\n",
       "      <td>1</td>\n",
       "      <td>resident ask shelter place notify officer evacuation shelter place order expect nan</td>\n",
       "    </tr>\n",
       "    <tr>\n",
       "      <td>3</td>\n",
       "      <td>6</td>\n",
       "      <td>13,000 people receive #wildfires evacuation orders in california  nan</td>\n",
       "      <td>1</td>\n",
       "      <td>13,000 people receive wildfire evacuation order california   nan</td>\n",
       "    </tr>\n",
       "    <tr>\n",
       "      <td>4</td>\n",
       "      <td>7</td>\n",
       "      <td>just got sent this photo from ruby #alaska as smoke from #wildfires pours into a school  nan</td>\n",
       "      <td>1</td>\n",
       "      <td>get send photo ruby alaska smoke wildfire pour school   nan</td>\n",
       "    </tr>\n",
       "  </tbody>\n",
       "</table>\n",
       "</div>"
      ],
      "text/plain": [
       "   id  \\\n",
       "0   1   \n",
       "1   4   \n",
       "2   5   \n",
       "3   6   \n",
       "4   7   \n",
       "\n",
       "                                                                                                                                        text  \\\n",
       "0                                                                  our deeds are the reason of this #earthquake may allah forgive us all nan   \n",
       "1                                                                                                 forest fire near la ronge sask. canada nan   \n",
       "2  all residents asked to 'shelter in place' are being notified by officers. no other evacuation or shelter in place orders are expected nan   \n",
       "3                                                                      13,000 people receive #wildfires evacuation orders in california  nan   \n",
       "4                                               just got sent this photo from ruby #alaska as smoke from #wildfires pours into a school  nan   \n",
       "\n",
       "   target  \\\n",
       "0       1   \n",
       "1       1   \n",
       "2       1   \n",
       "3       1   \n",
       "4       1   \n",
       "\n",
       "                                                                            clean_text  \n",
       "0                                             deed reason earthquake allah forgive nan  \n",
       "1                                            forest fire near la ronge sask canada nan  \n",
       "2  resident ask shelter place notify officer evacuation shelter place order expect nan  \n",
       "3                     13,000 people receive wildfire evacuation order california   nan  \n",
       "4                          get send photo ruby alaska smoke wildfire pour school   nan  "
      ]
     },
     "execution_count": 33,
     "metadata": {},
     "output_type": "execute_result"
    }
   ],
   "source": [
    "# check the cleaned data\n",
    "twdata.head(5)"
   ]
  },
  {
   "cell_type": "code",
   "execution_count": null,
   "metadata": {},
   "outputs": [],
   "source": []
  },
  {
   "cell_type": "code",
   "execution_count": 34,
   "metadata": {},
   "outputs": [],
   "source": [
    "# this data still has http://, @..., so need to clean further\n",
    "def clean_regex(data, col):\n",
    "    # remove http://\n",
    "    data[col]=data[col].apply(lambda x: re.sub(r'http\\S+', '', x))\n",
    "    # remove '!\"#$%&\\'()*+,-./:;<=>?@[\\\\]^_`{|}~'\n",
    "    data[col]=data[col].apply(lambda text: ''.join([x for x in text if x not in string.punctuation]))\n",
    "    # remove non ascii\n",
    "    data[col]=data[col].apply(lambda text: ''.join([x for x in text if ord(x) < 128]))\n"
   ]
  },
  {
   "cell_type": "code",
   "execution_count": 35,
   "metadata": {},
   "outputs": [],
   "source": [
    "clean_regex(twdata, 'clean_text')"
   ]
  },
  {
   "cell_type": "code",
   "execution_count": 36,
   "metadata": {},
   "outputs": [
    {
     "data": {
      "text/html": [
       "<div>\n",
       "<style scoped>\n",
       "    .dataframe tbody tr th:only-of-type {\n",
       "        vertical-align: middle;\n",
       "    }\n",
       "\n",
       "    .dataframe tbody tr th {\n",
       "        vertical-align: top;\n",
       "    }\n",
       "\n",
       "    .dataframe thead th {\n",
       "        text-align: right;\n",
       "    }\n",
       "</style>\n",
       "<table border=\"1\" class=\"dataframe\">\n",
       "  <thead>\n",
       "    <tr style=\"text-align: right;\">\n",
       "      <th></th>\n",
       "      <th>id</th>\n",
       "      <th>text</th>\n",
       "      <th>target</th>\n",
       "      <th>clean_text</th>\n",
       "    </tr>\n",
       "  </thead>\n",
       "  <tbody>\n",
       "    <tr>\n",
       "      <td>4795</td>\n",
       "      <td>6821</td>\n",
       "      <td>@sw_trains strange loud impact bang noises under train to epsom about to arrive #wimbledon loud%20bang</td>\n",
       "      <td>0</td>\n",
       "      <td>swtrains strange loud impact bang noise train epsom arrive wimbledon loud20bang</td>\n",
       "    </tr>\n",
       "    <tr>\n",
       "      <td>364</td>\n",
       "      <td>522</td>\n",
       "      <td>beyonce is my pick for http://t.co/nnmqlz91o9 fan army #beyhive http://t.co/o91f3cyy0r 78 army</td>\n",
       "      <td>0</td>\n",
       "      <td>beyonce pick  fan army beyhive  army</td>\n",
       "    </tr>\n",
       "    <tr>\n",
       "      <td>7017</td>\n",
       "      <td>10058</td>\n",
       "      <td>#breaking144 obama declares disaster for typhoon-devastated saipan: obama signs disaster declarat... http://t.co/m8ciks60bx #acenewsdesk typhoon</td>\n",
       "      <td>1</td>\n",
       "      <td>breaking144 obama declare disaster typhoon devastate saipan obama sign disaster declarat  acenewsdesk typhoon</td>\n",
       "    </tr>\n",
       "    <tr>\n",
       "      <td>5789</td>\n",
       "      <td>8259</td>\n",
       "      <td>@evacide the ferguson riots worked. this of this the next time you say rioting doesn't change anything.\\n\\nthere fixed it for you. rioting</td>\n",
       "      <td>1</td>\n",
       "      <td>evacide ferguson riot work time rioting change \\n\\n fix rioting</td>\n",
       "    </tr>\n",
       "    <tr>\n",
       "      <td>3784</td>\n",
       "      <td>5375</td>\n",
       "      <td>former township fire truck being used in philippines - langley times http://t.co/l90dcpv9zu #philippines fire%20truck</td>\n",
       "      <td>1</td>\n",
       "      <td>township fire truck philippines langley times  philippines fire20truck</td>\n",
       "    </tr>\n",
       "  </tbody>\n",
       "</table>\n",
       "</div>"
      ],
      "text/plain": [
       "         id  \\\n",
       "4795   6821   \n",
       "364     522   \n",
       "7017  10058   \n",
       "5789   8259   \n",
       "3784   5375   \n",
       "\n",
       "                                                                                                                                                  text  \\\n",
       "4795                                            @sw_trains strange loud impact bang noises under train to epsom about to arrive #wimbledon loud%20bang   \n",
       "364                                                     beyonce is my pick for http://t.co/nnmqlz91o9 fan army #beyhive http://t.co/o91f3cyy0r 78 army   \n",
       "7017  #breaking144 obama declares disaster for typhoon-devastated saipan: obama signs disaster declarat... http://t.co/m8ciks60bx #acenewsdesk typhoon   \n",
       "5789        @evacide the ferguson riots worked. this of this the next time you say rioting doesn't change anything.\\n\\nthere fixed it for you. rioting   \n",
       "3784                             former township fire truck being used in philippines - langley times http://t.co/l90dcpv9zu #philippines fire%20truck   \n",
       "\n",
       "      target  \\\n",
       "4795       0   \n",
       "364        0   \n",
       "7017       1   \n",
       "5789       1   \n",
       "3784       1   \n",
       "\n",
       "                                                                                                         clean_text  \n",
       "4795                                swtrains strange loud impact bang noise train epsom arrive wimbledon loud20bang  \n",
       "364                                                                            beyonce pick  fan army beyhive  army  \n",
       "7017  breaking144 obama declare disaster typhoon devastate saipan obama sign disaster declarat  acenewsdesk typhoon  \n",
       "5789                                                evacide ferguson riot work time rioting change \\n\\n fix rioting  \n",
       "3784                                         township fire truck philippines langley times  philippines fire20truck  "
      ]
     },
     "execution_count": 36,
     "metadata": {},
     "output_type": "execute_result"
    }
   ],
   "source": [
    "twdata.sample(5)"
   ]
  },
  {
   "cell_type": "code",
   "execution_count": 37,
   "metadata": {},
   "outputs": [
    {
     "data": {
      "text/plain": [
       "<matplotlib.axes._subplots.AxesSubplot at 0x26be806df48>"
      ]
     },
     "execution_count": 37,
     "metadata": {},
     "output_type": "execute_result"
    },
    {
     "data": {
      "image/png": "[encoded data removed]",
      "text/plain": [
       "<Figure size 432x288 with 1 Axes>"
      ]
     },
     "metadata": {
      "needs_background": "light"
     },
     "output_type": "display_data"
    }
   ],
   "source": [
    "# check the clean text length distribution\n",
    "clean_text_length=[len(x) for x in twdata['clean_text']] \n",
    "sb.distplot(clean_text_length, axlabel='clean_text length', color=\"g\")"
   ]
  },
  {
   "cell_type": "code",
   "execution_count": 38,
   "metadata": {},
   "outputs": [
    {
     "data": {
      "text/plain": [
       "(7613, 4)"
      ]
     },
     "execution_count": 38,
     "metadata": {},
     "output_type": "execute_result"
    }
   ],
   "source": [
    "twdata.shape"
   ]
  },
  {
   "cell_type": "code",
   "execution_count": 39,
   "metadata": {},
   "outputs": [],
   "source": [
    "# because of text cleaning few clean_text fields are zero length.\n",
    "zl_idx=[idx for idx in range(len(clean_text_length)) if clean_text_length[idx]==0]\n",
    "# drop this rows\n",
    "twdata.drop(axis=0, inplace=True, index=zl_idx)"
   ]
  },
  {
   "cell_type": "code",
   "execution_count": 40,
   "metadata": {},
   "outputs": [
    {
     "data": {
      "text/plain": [
       "(7613, 4)"
      ]
     },
     "execution_count": 40,
     "metadata": {},
     "output_type": "execute_result"
    }
   ],
   "source": [
    "twdata.shape"
   ]
  },
  {
   "cell_type": "code",
   "execution_count": 41,
   "metadata": {},
   "outputs": [],
   "source": [
    "twdata.to_csv('train_clean.csv')"
   ]
  },
  {
   "cell_type": "code",
   "execution_count": null,
   "metadata": {},
   "outputs": [],
   "source": []
  },
  {
   "cell_type": "code",
   "execution_count": 42,
   "metadata": {},
   "outputs": [],
   "source": [
    "# check the frequency of the words\n",
    "twdata = pd.read_csv('train_clean.csv')"
   ]
  },
  {
   "cell_type": "code",
   "execution_count": 43,
   "metadata": {},
   "outputs": [
    {
     "data": {
      "text/html": [
       "<div>\n",
       "<style scoped>\n",
       "    .dataframe tbody tr th:only-of-type {\n",
       "        vertical-align: middle;\n",
       "    }\n",
       "\n",
       "    .dataframe tbody tr th {\n",
       "        vertical-align: top;\n",
       "    }\n",
       "\n",
       "    .dataframe thead th {\n",
       "        text-align: right;\n",
       "    }\n",
       "</style>\n",
       "<table border=\"1\" class=\"dataframe\">\n",
       "  <thead>\n",
       "    <tr style=\"text-align: right;\">\n",
       "      <th></th>\n",
       "      <th>Unnamed: 0</th>\n",
       "      <th>id</th>\n",
       "      <th>text</th>\n",
       "      <th>target</th>\n",
       "      <th>clean_text</th>\n",
       "    </tr>\n",
       "  </thead>\n",
       "  <tbody>\n",
       "    <tr>\n",
       "      <td>0</td>\n",
       "      <td>0</td>\n",
       "      <td>1</td>\n",
       "      <td>our deeds are the reason of this #earthquake may allah forgive us all nan</td>\n",
       "      <td>1</td>\n",
       "      <td>deed reason earthquake allah forgive nan</td>\n",
       "    </tr>\n",
       "    <tr>\n",
       "      <td>1</td>\n",
       "      <td>1</td>\n",
       "      <td>4</td>\n",
       "      <td>forest fire near la ronge sask. canada nan</td>\n",
       "      <td>1</td>\n",
       "      <td>forest fire near la ronge sask canada nan</td>\n",
       "    </tr>\n",
       "    <tr>\n",
       "      <td>2</td>\n",
       "      <td>2</td>\n",
       "      <td>5</td>\n",
       "      <td>all residents asked to 'shelter in place' are being notified by officers. no other evacuation or shelter in place orders are expected nan</td>\n",
       "      <td>1</td>\n",
       "      <td>resident ask shelter place notify officer evacuation shelter place order expect nan</td>\n",
       "    </tr>\n",
       "    <tr>\n",
       "      <td>3</td>\n",
       "      <td>3</td>\n",
       "      <td>6</td>\n",
       "      <td>13,000 people receive #wildfires evacuation orders in california  nan</td>\n",
       "      <td>1</td>\n",
       "      <td>13000 people receive wildfire evacuation order california   nan</td>\n",
       "    </tr>\n",
       "    <tr>\n",
       "      <td>4</td>\n",
       "      <td>4</td>\n",
       "      <td>7</td>\n",
       "      <td>just got sent this photo from ruby #alaska as smoke from #wildfires pours into a school  nan</td>\n",
       "      <td>1</td>\n",
       "      <td>get send photo ruby alaska smoke wildfire pour school   nan</td>\n",
       "    </tr>\n",
       "  </tbody>\n",
       "</table>\n",
       "</div>"
      ],
      "text/plain": [
       "   Unnamed: 0  id  \\\n",
       "0           0   1   \n",
       "1           1   4   \n",
       "2           2   5   \n",
       "3           3   6   \n",
       "4           4   7   \n",
       "\n",
       "                                                                                                                                        text  \\\n",
       "0                                                                  our deeds are the reason of this #earthquake may allah forgive us all nan   \n",
       "1                                                                                                 forest fire near la ronge sask. canada nan   \n",
       "2  all residents asked to 'shelter in place' are being notified by officers. no other evacuation or shelter in place orders are expected nan   \n",
       "3                                                                      13,000 people receive #wildfires evacuation orders in california  nan   \n",
       "4                                               just got sent this photo from ruby #alaska as smoke from #wildfires pours into a school  nan   \n",
       "\n",
       "   target  \\\n",
       "0       1   \n",
       "1       1   \n",
       "2       1   \n",
       "3       1   \n",
       "4       1   \n",
       "\n",
       "                                                                            clean_text  \n",
       "0                                             deed reason earthquake allah forgive nan  \n",
       "1                                            forest fire near la ronge sask canada nan  \n",
       "2  resident ask shelter place notify officer evacuation shelter place order expect nan  \n",
       "3                      13000 people receive wildfire evacuation order california   nan  \n",
       "4                          get send photo ruby alaska smoke wildfire pour school   nan  "
      ]
     },
     "execution_count": 43,
     "metadata": {},
     "output_type": "execute_result"
    }
   ],
   "source": [
    "twdata.head()"
   ]
  },
  {
   "cell_type": "code",
   "execution_count": 44,
   "metadata": {},
   "outputs": [],
   "source": [
    "all_data=\" \".join(twdata['clean_text'])"
   ]
  },
  {
   "cell_type": "code",
   "execution_count": 45,
   "metadata": {},
   "outputs": [],
   "source": [
    "words=all_data.split()"
   ]
  },
  {
   "cell_type": "code",
   "execution_count": 46,
   "metadata": {},
   "outputs": [],
   "source": [
    "#common_words = Counter(words).most_common(50)"
   ]
  },
  {
   "cell_type": "code",
   "execution_count": 47,
   "metadata": {},
   "outputs": [],
   "source": [
    "#common_words"
   ]
  },
  {
   "cell_type": "code",
   "execution_count": 48,
   "metadata": {},
   "outputs": [],
   "source": [
    "#for w in common_words:\n",
    "#    x_word=w[0]\n",
    "#    y_val=w[1]#\n"
   ]
  },
  {
   "cell_type": "code",
   "execution_count": 49,
   "metadata": {},
   "outputs": [
    {
     "data": {
      "text/plain": [
       "['deed',\n",
       " 'reason',\n",
       " 'earthquake',\n",
       " 'allah',\n",
       " 'forgive',\n",
       " 'nan',\n",
       " 'forest',\n",
       " 'fire',\n",
       " 'near',\n",
       " 'la']"
      ]
     },
     "execution_count": 49,
     "metadata": {},
     "output_type": "execute_result"
    }
   ],
   "source": [
    "words[:10]"
   ]
  },
  {
   "cell_type": "code",
   "execution_count": 50,
   "metadata": {},
   "outputs": [],
   "source": [
    "#wcommn=pd.DataFrame(columns=['word','count'], data=common_words)"
   ]
  },
  {
   "cell_type": "code",
   "execution_count": 51,
   "metadata": {},
   "outputs": [],
   "source": [
    "#wcommn.head()"
   ]
  },
  {
   "cell_type": "code",
   "execution_count": 52,
   "metadata": {},
   "outputs": [
    {
     "data": {
      "image/png": "[encoded data removed]",
      "text/plain": [
       "<Figure size 1440x360 with 1 Axes>"
      ]
     },
     "metadata": {},
     "output_type": "display_data"
    },
    {
     "data": {
      "text/plain": [
       "<matplotlib.axes._subplots.AxesSubplot at 0x26be28f0fc8>"
      ]
     },
     "execution_count": 52,
     "metadata": {},
     "output_type": "execute_result"
    }
   ],
   "source": [
    "%matplotlib inline\n",
    "sb.set(rc={'figure.figsize':(20,5)})\n",
    "\n",
    "nltk_plot=nltk.FreqDist(words)\n",
    "nltk_plot.plot(100)"
   ]
  },
  {
   "cell_type": "code",
   "execution_count": 53,
   "metadata": {},
   "outputs": [],
   "source": [
    "# rt & nan is still there\n",
    "def clean_regex_next(data, col):\n",
    "    # remove rt\n",
    "    data[col]=data[col].apply(lambda x: re.sub(r'rt', '', x))\n",
    "    # remove nan\n",
    "    data[col]=data[col].apply(lambda x: re.sub(r'nan', '', x))\n",
    "    # remove digits\n",
    "    data[col]=data[col].apply(lambda x: \"\".join(t for t in x if not t.isdigit()))\n",
    "   "
   ]
  },
  {
   "cell_type": "code",
   "execution_count": 54,
   "metadata": {},
   "outputs": [],
   "source": [
    "clean_regex_next(twdata, 'clean_text')"
   ]
  },
  {
   "cell_type": "code",
   "execution_count": 55,
   "metadata": {},
   "outputs": [
    {
     "data": {
      "image/png": "[encoded data removed]",
      "text/plain": [
       "<Figure size 1440x360 with 1 Axes>"
      ]
     },
     "metadata": {},
     "output_type": "display_data"
    },
    {
     "data": {
      "text/plain": [
       "<matplotlib.axes._subplots.AxesSubplot at 0x26bd6782788>"
      ]
     },
     "execution_count": 55,
     "metadata": {},
     "output_type": "execute_result"
    }
   ],
   "source": [
    "all_data=\" \".join(twdata['clean_text'])\n",
    "words=all_data.split()\n",
    "\n",
    "\n",
    "sb.set(rc={'figure.figsize':(20,5)})\n",
    "\n",
    "nltk_plot=nltk.FreqDist(words)\n",
    "nltk_plot.plot(100)"
   ]
  },
  {
   "cell_type": "markdown",
   "metadata": {},
   "source": [
    "** there are few single charecters, need to drop them.**"
   ]
  },
  {
   "cell_type": "code",
   "execution_count": 56,
   "metadata": {},
   "outputs": [],
   "source": [
    "def drop_single_char(data, col):\n",
    "    data[col]=data[col].apply(lambda x: x.split())\n",
    "    data[col]=data[col].apply(lambda x: \" \".join(t for t in x if len(t)>1))"
   ]
  },
  {
   "cell_type": "code",
   "execution_count": 58,
   "metadata": {},
   "outputs": [],
   "source": [
    "drop_single_char(twdata, 'clean_text')"
   ]
  },
  {
   "cell_type": "code",
   "execution_count": 59,
   "metadata": {},
   "outputs": [
    {
     "data": {
      "text/html": [
       "<div>\n",
       "<style scoped>\n",
       "    .dataframe tbody tr th:only-of-type {\n",
       "        vertical-align: middle;\n",
       "    }\n",
       "\n",
       "    .dataframe tbody tr th {\n",
       "        vertical-align: top;\n",
       "    }\n",
       "\n",
       "    .dataframe thead th {\n",
       "        text-align: right;\n",
       "    }\n",
       "</style>\n",
       "<table border=\"1\" class=\"dataframe\">\n",
       "  <thead>\n",
       "    <tr style=\"text-align: right;\">\n",
       "      <th></th>\n",
       "      <th>Unnamed: 0</th>\n",
       "      <th>id</th>\n",
       "      <th>text</th>\n",
       "      <th>target</th>\n",
       "      <th>clean_text</th>\n",
       "    </tr>\n",
       "  </thead>\n",
       "  <tbody>\n",
       "    <tr>\n",
       "      <td>0</td>\n",
       "      <td>0</td>\n",
       "      <td>1</td>\n",
       "      <td>our deeds are the reason of this #earthquake may allah forgive us all nan</td>\n",
       "      <td>1</td>\n",
       "      <td>deed reason eahquake allah forgive</td>\n",
       "    </tr>\n",
       "    <tr>\n",
       "      <td>1</td>\n",
       "      <td>1</td>\n",
       "      <td>4</td>\n",
       "      <td>forest fire near la ronge sask. canada nan</td>\n",
       "      <td>1</td>\n",
       "      <td>forest fire near la ronge sask canada</td>\n",
       "    </tr>\n",
       "    <tr>\n",
       "      <td>2</td>\n",
       "      <td>2</td>\n",
       "      <td>5</td>\n",
       "      <td>all residents asked to 'shelter in place' are being notified by officers. no other evacuation or shelter in place orders are expected nan</td>\n",
       "      <td>1</td>\n",
       "      <td>resident ask shelter place notify officer evacuation shelter place order expect</td>\n",
       "    </tr>\n",
       "    <tr>\n",
       "      <td>3</td>\n",
       "      <td>3</td>\n",
       "      <td>6</td>\n",
       "      <td>13,000 people receive #wildfires evacuation orders in california  nan</td>\n",
       "      <td>1</td>\n",
       "      <td>people receive wildfire evacuation order california</td>\n",
       "    </tr>\n",
       "    <tr>\n",
       "      <td>4</td>\n",
       "      <td>4</td>\n",
       "      <td>7</td>\n",
       "      <td>just got sent this photo from ruby #alaska as smoke from #wildfires pours into a school  nan</td>\n",
       "      <td>1</td>\n",
       "      <td>get send photo ruby alaska smoke wildfire pour school</td>\n",
       "    </tr>\n",
       "  </tbody>\n",
       "</table>\n",
       "</div>"
      ],
      "text/plain": [
       "   Unnamed: 0  id  \\\n",
       "0           0   1   \n",
       "1           1   4   \n",
       "2           2   5   \n",
       "3           3   6   \n",
       "4           4   7   \n",
       "\n",
       "                                                                                                                                        text  \\\n",
       "0                                                                  our deeds are the reason of this #earthquake may allah forgive us all nan   \n",
       "1                                                                                                 forest fire near la ronge sask. canada nan   \n",
       "2  all residents asked to 'shelter in place' are being notified by officers. no other evacuation or shelter in place orders are expected nan   \n",
       "3                                                                      13,000 people receive #wildfires evacuation orders in california  nan   \n",
       "4                                               just got sent this photo from ruby #alaska as smoke from #wildfires pours into a school  nan   \n",
       "\n",
       "   target  \\\n",
       "0       1   \n",
       "1       1   \n",
       "2       1   \n",
       "3       1   \n",
       "4       1   \n",
       "\n",
       "                                                                        clean_text  \n",
       "0                                               deed reason eahquake allah forgive  \n",
       "1                                            forest fire near la ronge sask canada  \n",
       "2  resident ask shelter place notify officer evacuation shelter place order expect  \n",
       "3                              people receive wildfire evacuation order california  \n",
       "4                            get send photo ruby alaska smoke wildfire pour school  "
      ]
     },
     "execution_count": 59,
     "metadata": {},
     "output_type": "execute_result"
    }
   ],
   "source": [
    "twdata.head()"
   ]
  },
  {
   "cell_type": "code",
   "execution_count": 60,
   "metadata": {},
   "outputs": [
    {
     "data": {
      "image/png": "[encoded data removed]",
      "text/plain": [
       "<Figure size 1440x360 with 1 Axes>"
      ]
     },
     "metadata": {},
     "output_type": "display_data"
    },
    {
     "data": {
      "text/plain": [
       "<matplotlib.axes._subplots.AxesSubplot at 0x26be9a36048>"
      ]
     },
     "execution_count": 60,
     "metadata": {},
     "output_type": "execute_result"
    }
   ],
   "source": [
    "all_data=\" \".join(twdata['clean_text'])\n",
    "words=all_data.split()\n",
    "\n",
    "sb.set(rc={'figure.figsize':(20,5)})\n",
    "\n",
    "nltk_plot=nltk.FreqDist(words)\n",
    "nltk_plot.plot(100)"
   ]
  },
  {
   "cell_type": "markdown",
   "metadata": {},
   "source": [
    "** similar way clean the test data also **"
   ]
  },
  {
   "cell_type": "code",
   "execution_count": 61,
   "metadata": {},
   "outputs": [],
   "source": [
    "_to_lower(testdata, 'text')\n",
    "\n",
    "testdata['clean_text']=testdata['text'].apply(lambda x: list(nlp(x)))\n",
    "spacy_clean(testdata, 'clean_text')"
   ]
  },
  {
   "cell_type": "code",
   "execution_count": 62,
   "metadata": {},
   "outputs": [],
   "source": [
    "clean_regex(testdata, 'clean_text')"
   ]
  },
  {
   "cell_type": "code",
   "execution_count": 63,
   "metadata": {},
   "outputs": [],
   "source": [
    "clean_regex_next(testdata, 'clean_text')\n",
    "# there are few single charecters, need to drop them.\n",
    "drop_single_char(testdata, 'clean_text')"
   ]
  },
  {
   "cell_type": "code",
   "execution_count": 64,
   "metadata": {},
   "outputs": [
    {
     "data": {
      "text/html": [
       "<div>\n",
       "<style scoped>\n",
       "    .dataframe tbody tr th:only-of-type {\n",
       "        vertical-align: middle;\n",
       "    }\n",
       "\n",
       "    .dataframe tbody tr th {\n",
       "        vertical-align: top;\n",
       "    }\n",
       "\n",
       "    .dataframe thead th {\n",
       "        text-align: right;\n",
       "    }\n",
       "</style>\n",
       "<table border=\"1\" class=\"dataframe\">\n",
       "  <thead>\n",
       "    <tr style=\"text-align: right;\">\n",
       "      <th></th>\n",
       "      <th>id</th>\n",
       "      <th>text</th>\n",
       "      <th>clean_text</th>\n",
       "    </tr>\n",
       "  </thead>\n",
       "  <tbody>\n",
       "    <tr>\n",
       "      <td>0</td>\n",
       "      <td>0</td>\n",
       "      <td>just happened a terrible car crash nan</td>\n",
       "      <td>happen terrible car crash</td>\n",
       "    </tr>\n",
       "    <tr>\n",
       "      <td>1</td>\n",
       "      <td>2</td>\n",
       "      <td>heard about #earthquake is different cities, stay safe everyone. nan</td>\n",
       "      <td>hear eahquake different city stay safe</td>\n",
       "    </tr>\n",
       "    <tr>\n",
       "      <td>2</td>\n",
       "      <td>3</td>\n",
       "      <td>there is a forest fire at spot pond, geese are fleeing across the street, i cannot save them all nan</td>\n",
       "      <td>forest fire spot pond geese flee street save</td>\n",
       "    </tr>\n",
       "    <tr>\n",
       "      <td>3</td>\n",
       "      <td>9</td>\n",
       "      <td>apocalypse lighting. #spokane #wildfires nan</td>\n",
       "      <td>apocalypse lighting spokane wildfire</td>\n",
       "    </tr>\n",
       "    <tr>\n",
       "      <td>4</td>\n",
       "      <td>11</td>\n",
       "      <td>typhoon soudelor kills 28 in china and taiwan nan</td>\n",
       "      <td>typhoon soudelor kill china taiwan</td>\n",
       "    </tr>\n",
       "  </tbody>\n",
       "</table>\n",
       "</div>"
      ],
      "text/plain": [
       "   id  \\\n",
       "0   0   \n",
       "1   2   \n",
       "2   3   \n",
       "3   9   \n",
       "4  11   \n",
       "\n",
       "                                                                                                   text  \\\n",
       "0                                                                just happened a terrible car crash nan   \n",
       "1                                  heard about #earthquake is different cities, stay safe everyone. nan   \n",
       "2  there is a forest fire at spot pond, geese are fleeing across the street, i cannot save them all nan   \n",
       "3                                                          apocalypse lighting. #spokane #wildfires nan   \n",
       "4                                                     typhoon soudelor kills 28 in china and taiwan nan   \n",
       "\n",
       "                                     clean_text  \n",
       "0                     happen terrible car crash  \n",
       "1        hear eahquake different city stay safe  \n",
       "2  forest fire spot pond geese flee street save  \n",
       "3          apocalypse lighting spokane wildfire  \n",
       "4            typhoon soudelor kill china taiwan  "
      ]
     },
     "execution_count": 64,
     "metadata": {},
     "output_type": "execute_result"
    }
   ],
   "source": [
    "testdata.head()"
   ]
  },
  {
   "cell_type": "code",
   "execution_count": 65,
   "metadata": {},
   "outputs": [
    {
     "data": {
      "text/plain": [
       "<matplotlib.axes._subplots.AxesSubplot at 0x26be4050e48>"
      ]
     },
     "execution_count": 65,
     "metadata": {},
     "output_type": "execute_result"
    },
    {
     "data": {
      "image/png": "[encoded data removed]",
      "text/plain": [
       "<Figure size 1440x360 with 1 Axes>"
      ]
     },
     "metadata": {},
     "output_type": "display_data"
    }
   ],
   "source": [
    "# check the clean text length distribution\n",
    "clean_text_length=[len(x) for x in testdata['clean_text']] \n",
    "sb.distplot(clean_text_length, axlabel='test clean_text length', color=\"g\")"
   ]
  },
  {
   "cell_type": "code",
   "execution_count": 66,
   "metadata": {},
   "outputs": [],
   "source": [
    "# because of text cleaning few clean_text fields are zero length.\n",
    "zl_idx=[idx for idx in range(len(clean_text_length)) if clean_text_length[idx]==0]\n",
    "# drop this rows\n",
    "testdata.drop(axis=0, inplace=True, index=zl_idx)"
   ]
  },
  {
   "cell_type": "code",
   "execution_count": 67,
   "metadata": {},
   "outputs": [
    {
     "data": {
      "image/png": "[encoded data removed]",
      "text/plain": [
       "<Figure size 1440x360 with 1 Axes>"
      ]
     },
     "metadata": {},
     "output_type": "display_data"
    },
    {
     "data": {
      "text/plain": [
       "<matplotlib.axes._subplots.AxesSubplot at 0x26bded966c8>"
      ]
     },
     "execution_count": 67,
     "metadata": {},
     "output_type": "execute_result"
    }
   ],
   "source": [
    "# plot the word frequency to understand the test data\n",
    "all_data_test=\" \".join(testdata['clean_text'])\n",
    "words_test=all_data_test.split()\n",
    "\n",
    "sb.set(rc={'figure.figsize':(20,5)})\n",
    "\n",
    "nltk_plot=nltk.FreqDist(words_test)\n",
    "nltk_plot.plot(100)"
   ]
  },
  {
   "cell_type": "code",
   "execution_count": 70,
   "metadata": {},
   "outputs": [
    {
     "data": {
      "text/html": [
       "<div>\n",
       "<style scoped>\n",
       "    .dataframe tbody tr th:only-of-type {\n",
       "        vertical-align: middle;\n",
       "    }\n",
       "\n",
       "    .dataframe tbody tr th {\n",
       "        vertical-align: top;\n",
       "    }\n",
       "\n",
       "    .dataframe thead th {\n",
       "        text-align: right;\n",
       "    }\n",
       "</style>\n",
       "<table border=\"1\" class=\"dataframe\">\n",
       "  <thead>\n",
       "    <tr style=\"text-align: right;\">\n",
       "      <th></th>\n",
       "      <th>id</th>\n",
       "      <th>text</th>\n",
       "      <th>clean_text</th>\n",
       "    </tr>\n",
       "  </thead>\n",
       "  <tbody>\n",
       "    <tr>\n",
       "      <td>2882</td>\n",
       "      <td>9536</td>\n",
       "      <td>[august 06 2015 at 08:02pm] three israeli soldiers wounded in west bank terrorist attack via http://t.co/6ndherpbot terrorist</td>\n",
       "      <td>august pm israeli soldier wound west bank terrorist attack terrorist</td>\n",
       "    </tr>\n",
       "    <tr>\n",
       "      <td>2119</td>\n",
       "      <td>7096</td>\n",
       "      <td>inspectors so far denied access to iran's scientists - wall street journal http://t.co/sur3odwmka http://t.co/2vsx1yo5ht military</td>\n",
       "      <td>inspector far deny access iran scientist wall street journal military</td>\n",
       "    </tr>\n",
       "    <tr>\n",
       "      <td>524</td>\n",
       "      <td>1714</td>\n",
       "      <td>#sport - shane warne and ricky ponting shocked by australia batting collapse at trent bridge australian grea... http://t.co/c41iumknis bridge%20collapse</td>\n",
       "      <td>spo shane warne ricky ponting shock australia batting collapse trent bridge australian grea bridgecollapse</td>\n",
       "    </tr>\n",
       "    <tr>\n",
       "      <td>128</td>\n",
       "      <td>408</td>\n",
       "      <td>#askconnor there's a zombie apocalypse. the item to your right is your weapon. you're either screwed or you're gonna live. apocalypse</td>\n",
       "      <td>askconnor zombie apocalypse item right weapon screw go to live apocalypse</td>\n",
       "    </tr>\n",
       "    <tr>\n",
       "      <td>3167</td>\n",
       "      <td>10507</td>\n",
       "      <td>cherokee road and road 22 (three sisters wildfire): there are two roads closed to the general public: ... http://t.co/wwnl8fvfmm #idfire wildfire</td>\n",
       "      <td>cherokee road road sister wildfire road close general public idfire wildfire</td>\n",
       "    </tr>\n",
       "  </tbody>\n",
       "</table>\n",
       "</div>"
      ],
      "text/plain": [
       "         id  \\\n",
       "2882   9536   \n",
       "2119   7096   \n",
       "524    1714   \n",
       "128     408   \n",
       "3167  10507   \n",
       "\n",
       "                                                                                                                                                          text  \\\n",
       "2882                             [august 06 2015 at 08:02pm] three israeli soldiers wounded in west bank terrorist attack via http://t.co/6ndherpbot terrorist   \n",
       "2119                         inspectors so far denied access to iran's scientists - wall street journal http://t.co/sur3odwmka http://t.co/2vsx1yo5ht military   \n",
       "524   #sport - shane warne and ricky ponting shocked by australia batting collapse at trent bridge australian grea... http://t.co/c41iumknis bridge%20collapse   \n",
       "128                      #askconnor there's a zombie apocalypse. the item to your right is your weapon. you're either screwed or you're gonna live. apocalypse   \n",
       "3167         cherokee road and road 22 (three sisters wildfire): there are two roads closed to the general public: ... http://t.co/wwnl8fvfmm #idfire wildfire   \n",
       "\n",
       "                                                                                                      clean_text  \n",
       "2882                                        august pm israeli soldier wound west bank terrorist attack terrorist  \n",
       "2119                                       inspector far deny access iran scientist wall street journal military  \n",
       "524   spo shane warne ricky ponting shock australia batting collapse trent bridge australian grea bridgecollapse  \n",
       "128                                    askconnor zombie apocalypse item right weapon screw go to live apocalypse  \n",
       "3167                                cherokee road road sister wildfire road close general public idfire wildfire  "
      ]
     },
     "execution_count": 70,
     "metadata": {},
     "output_type": "execute_result"
    }
   ],
   "source": [
    "testdata.sample(5)"
   ]
  },
  {
   "cell_type": "markdown",
   "metadata": {},
   "source": [
    "# Create Model"
   ]
  },
  {
   "cell_type": "markdown",
   "metadata": {},
   "source": [
    "**try **"
   ]
  }
 ],
 "metadata": {
  "kernelspec": {
   "display_name": "Python 3",
   "language": "python",
   "name": "python3"
  },
  "language_info": {
   "codemirror_mode": {
    "name": "ipython",
    "version": 3
   },
   "file_extension": ".py",
   "mimetype": "text/x-python",
   "name": "python",
   "nbconvert_exporter": "python",
   "pygments_lexer": "ipython3",
   "version": "3.7.4"
  }
 },
 "nbformat": 4,
 "nbformat_minor": 4
}
