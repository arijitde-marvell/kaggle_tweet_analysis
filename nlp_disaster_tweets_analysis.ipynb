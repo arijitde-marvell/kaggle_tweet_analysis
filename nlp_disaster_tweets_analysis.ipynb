{
 "cells": [
  {
   "cell_type": "code",
   "execution_count": 315,
   "metadata": {
    "_cell_guid": "b1076dfc-b9ad-4769-8c92-a6c4dae69d19",
    "_uuid": "8f2839f25d086af736a60e9eeb907d3b93b6e0e5"
   },
   "outputs": [],
   "source": [
    "# This Python 3 environment comes with many helpful analytics libraries installed\n",
    "# It is defined by the kaggle/python docker image: https://github.com/kaggle/docker-python\n",
    "# For example, here's several helpful packages to load in \n",
    "\n",
    "import numpy as np # linear algebra\n",
    "import pandas as pd # data processing, CSV file I/O (e.g. pd.read_csv)\n",
    "\n",
    "# Input data files are available in the \"../input/\" directory.\n",
    "# For example, running this (by clicking run or pressing Shift+Enter) will list all files under the input directory\n",
    "\n",
    "import os\n",
    "for dirname, _, filenames in os.walk('/kaggle/input'):\n",
    "    for filename in filenames:\n",
    "        print(os.path.join(dirname, filename))\n",
    "\n",
    "# Any results you write to the current directory are saved as output."
   ]
  },
  {
   "cell_type": "code",
   "execution_count": 366,
   "metadata": {},
   "outputs": [],
   "source": [
    "import seaborn as sb\n",
    "import matplotlib.pyplot as plt\n",
    "import re\n",
    "import nltk\n",
    "import spacy\n",
    "import string\n",
    "#pd.set_option('display.max_rows', 500)\n",
    "#pd.set_option('display.max_columns', 500)\n",
    "#pd.set_option('display.width', 1000)"
   ]
  },
  {
   "cell_type": "markdown",
   "metadata": {},
   "source": [
    "# Check the data"
   ]
  },
  {
   "cell_type": "code",
   "execution_count": 317,
   "metadata": {
    "_cell_guid": "79c7e3d0-c299-4dcb-8224-4455121ee9b0",
    "_uuid": "d629ff2d2480ee46fbb7e2d37f6b5fab8052498a"
   },
   "outputs": [],
   "source": [
    "#twdata=pd.read_csv('/kaggle/input/nlp-getting-started/train.csv')\n",
    "#testdata=pd.read_csv('/kaggle/input/nlp-getting-started/test.csv')\n",
    "twdata=pd.read_csv('train.csv')\n",
    "testdata=pd.read_csv('test.csv')"
   ]
  },
  {
   "cell_type": "code",
   "execution_count": 318,
   "metadata": {},
   "outputs": [
    {
     "data": {
      "text/html": [
       "<div>\n",
       "<style scoped>\n",
       "    .dataframe tbody tr th:only-of-type {\n",
       "        vertical-align: middle;\n",
       "    }\n",
       "\n",
       "    .dataframe tbody tr th {\n",
       "        vertical-align: top;\n",
       "    }\n",
       "\n",
       "    .dataframe thead th {\n",
       "        text-align: right;\n",
       "    }\n",
       "</style>\n",
       "<table border=\"1\" class=\"dataframe\">\n",
       "  <thead>\n",
       "    <tr style=\"text-align: right;\">\n",
       "      <th></th>\n",
       "      <th>id</th>\n",
       "      <th>keyword</th>\n",
       "      <th>location</th>\n",
       "      <th>text</th>\n",
       "      <th>target</th>\n",
       "    </tr>\n",
       "  </thead>\n",
       "  <tbody>\n",
       "    <tr>\n",
       "      <td>0</td>\n",
       "      <td>1</td>\n",
       "      <td>NaN</td>\n",
       "      <td>NaN</td>\n",
       "      <td>Our Deeds are the Reason of this #earthquake May ALLAH Forgive us all</td>\n",
       "      <td>1</td>\n",
       "    </tr>\n",
       "    <tr>\n",
       "      <td>1</td>\n",
       "      <td>4</td>\n",
       "      <td>NaN</td>\n",
       "      <td>NaN</td>\n",
       "      <td>Forest fire near La Ronge Sask. Canada</td>\n",
       "      <td>1</td>\n",
       "    </tr>\n",
       "    <tr>\n",
       "      <td>2</td>\n",
       "      <td>5</td>\n",
       "      <td>NaN</td>\n",
       "      <td>NaN</td>\n",
       "      <td>All residents asked to 'shelter in place' are being notified by officers. No other evacuation or shelter in place orders are expected</td>\n",
       "      <td>1</td>\n",
       "    </tr>\n",
       "    <tr>\n",
       "      <td>3</td>\n",
       "      <td>6</td>\n",
       "      <td>NaN</td>\n",
       "      <td>NaN</td>\n",
       "      <td>13,000 people receive #wildfires evacuation orders in California</td>\n",
       "      <td>1</td>\n",
       "    </tr>\n",
       "    <tr>\n",
       "      <td>4</td>\n",
       "      <td>7</td>\n",
       "      <td>NaN</td>\n",
       "      <td>NaN</td>\n",
       "      <td>Just got sent this photo from Ruby #Alaska as smoke from #wildfires pours into a school</td>\n",
       "      <td>1</td>\n",
       "    </tr>\n",
       "  </tbody>\n",
       "</table>\n",
       "</div>"
      ],
      "text/plain": [
       "   id keyword location  \\\n",
       "0   1     NaN      NaN   \n",
       "1   4     NaN      NaN   \n",
       "2   5     NaN      NaN   \n",
       "3   6     NaN      NaN   \n",
       "4   7     NaN      NaN   \n",
       "\n",
       "                                                                                                                                    text  \\\n",
       "0                                                                  Our Deeds are the Reason of this #earthquake May ALLAH Forgive us all   \n",
       "1                                                                                                 Forest fire near La Ronge Sask. Canada   \n",
       "2  All residents asked to 'shelter in place' are being notified by officers. No other evacuation or shelter in place orders are expected   \n",
       "3                                                                      13,000 people receive #wildfires evacuation orders in California    \n",
       "4                                               Just got sent this photo from Ruby #Alaska as smoke from #wildfires pours into a school    \n",
       "\n",
       "   target  \n",
       "0       1  \n",
       "1       1  \n",
       "2       1  \n",
       "3       1  \n",
       "4       1  "
      ]
     },
     "execution_count": 318,
     "metadata": {},
     "output_type": "execute_result"
    }
   ],
   "source": [
    "twdata.head()"
   ]
  },
  {
   "cell_type": "code",
   "execution_count": 319,
   "metadata": {},
   "outputs": [
    {
     "data": {
      "text/html": [
       "<div>\n",
       "<style scoped>\n",
       "    .dataframe tbody tr th:only-of-type {\n",
       "        vertical-align: middle;\n",
       "    }\n",
       "\n",
       "    .dataframe tbody tr th {\n",
       "        vertical-align: top;\n",
       "    }\n",
       "\n",
       "    .dataframe thead th {\n",
       "        text-align: right;\n",
       "    }\n",
       "</style>\n",
       "<table border=\"1\" class=\"dataframe\">\n",
       "  <thead>\n",
       "    <tr style=\"text-align: right;\">\n",
       "      <th></th>\n",
       "      <th>id</th>\n",
       "      <th>keyword</th>\n",
       "      <th>location</th>\n",
       "      <th>text</th>\n",
       "    </tr>\n",
       "  </thead>\n",
       "  <tbody>\n",
       "    <tr>\n",
       "      <td>0</td>\n",
       "      <td>0</td>\n",
       "      <td>NaN</td>\n",
       "      <td>NaN</td>\n",
       "      <td>Just happened a terrible car crash</td>\n",
       "    </tr>\n",
       "    <tr>\n",
       "      <td>1</td>\n",
       "      <td>2</td>\n",
       "      <td>NaN</td>\n",
       "      <td>NaN</td>\n",
       "      <td>Heard about #earthquake is different cities, stay safe everyone.</td>\n",
       "    </tr>\n",
       "    <tr>\n",
       "      <td>2</td>\n",
       "      <td>3</td>\n",
       "      <td>NaN</td>\n",
       "      <td>NaN</td>\n",
       "      <td>there is a forest fire at spot pond, geese are fleeing across the street, I cannot save them all</td>\n",
       "    </tr>\n",
       "    <tr>\n",
       "      <td>3</td>\n",
       "      <td>9</td>\n",
       "      <td>NaN</td>\n",
       "      <td>NaN</td>\n",
       "      <td>Apocalypse lighting. #Spokane #wildfires</td>\n",
       "    </tr>\n",
       "    <tr>\n",
       "      <td>4</td>\n",
       "      <td>11</td>\n",
       "      <td>NaN</td>\n",
       "      <td>NaN</td>\n",
       "      <td>Typhoon Soudelor kills 28 in China and Taiwan</td>\n",
       "    </tr>\n",
       "  </tbody>\n",
       "</table>\n",
       "</div>"
      ],
      "text/plain": [
       "   id keyword location  \\\n",
       "0   0     NaN      NaN   \n",
       "1   2     NaN      NaN   \n",
       "2   3     NaN      NaN   \n",
       "3   9     NaN      NaN   \n",
       "4  11     NaN      NaN   \n",
       "\n",
       "                                                                                               text  \n",
       "0                                                                Just happened a terrible car crash  \n",
       "1                                  Heard about #earthquake is different cities, stay safe everyone.  \n",
       "2  there is a forest fire at spot pond, geese are fleeing across the street, I cannot save them all  \n",
       "3                                                          Apocalypse lighting. #Spokane #wildfires  \n",
       "4                                                     Typhoon Soudelor kills 28 in China and Taiwan  "
      ]
     },
     "execution_count": 319,
     "metadata": {},
     "output_type": "execute_result"
    }
   ],
   "source": [
    "testdata.head()"
   ]
  },
  {
   "cell_type": "code",
   "execution_count": 320,
   "metadata": {},
   "outputs": [
    {
     "data": {
      "text/html": [
       "<div>\n",
       "<style scoped>\n",
       "    .dataframe tbody tr th:only-of-type {\n",
       "        vertical-align: middle;\n",
       "    }\n",
       "\n",
       "    .dataframe tbody tr th {\n",
       "        vertical-align: top;\n",
       "    }\n",
       "\n",
       "    .dataframe thead th {\n",
       "        text-align: right;\n",
       "    }\n",
       "</style>\n",
       "<table border=\"1\" class=\"dataframe\">\n",
       "  <thead>\n",
       "    <tr style=\"text-align: right;\">\n",
       "      <th></th>\n",
       "      <th>id</th>\n",
       "      <th>keyword</th>\n",
       "      <th>location</th>\n",
       "      <th>text</th>\n",
       "      <th>target</th>\n",
       "    </tr>\n",
       "  </thead>\n",
       "  <tbody>\n",
       "    <tr>\n",
       "      <td>5549</td>\n",
       "      <td>7915</td>\n",
       "      <td>rainstorm</td>\n",
       "      <td>Coventry, Rhode Island</td>\n",
       "      <td>Going to the beach with Jim Alves means a guaranteed rainstorm.  #lucky http://t.co/fejs0Bu0sq</td>\n",
       "      <td>0</td>\n",
       "    </tr>\n",
       "    <tr>\n",
       "      <td>3094</td>\n",
       "      <td>4441</td>\n",
       "      <td>electrocute</td>\n",
       "      <td>Houston, TX</td>\n",
       "      <td>@FoxNews He still has his beard - has he been visited by any1 while in prison? If he keeps that hideous beard electrocute him! \\n#UglyPeople</td>\n",
       "      <td>1</td>\n",
       "    </tr>\n",
       "    <tr>\n",
       "      <td>5149</td>\n",
       "      <td>7343</td>\n",
       "      <td>nuclear%20reactor</td>\n",
       "      <td>Virginia</td>\n",
       "      <td>HamptonRoadsFor.me US Navy Sidelines 3 Newest Subs - http://t.co/9QNQ45Zduw http://t.co/dhyLJllRHL</td>\n",
       "      <td>0</td>\n",
       "    </tr>\n",
       "    <tr>\n",
       "      <td>279</td>\n",
       "      <td>407</td>\n",
       "      <td>apocalypse</td>\n",
       "      <td>NaN</td>\n",
       "      <td>She's kinda hot played on the radio today. What's next? Disease to all? The apocalypse has started everyone. Be careful.</td>\n",
       "      <td>0</td>\n",
       "    </tr>\n",
       "    <tr>\n",
       "      <td>7143</td>\n",
       "      <td>10236</td>\n",
       "      <td>volcano</td>\n",
       "      <td>Santiago de Cmpostela Galicia</td>\n",
       "      <td>I added a video to a @YouTube playlist http://t.co/y2Mt6v13E8 Doc: Volcanoes and Earthquakes - Inside the Volcano</td>\n",
       "      <td>1</td>\n",
       "    </tr>\n",
       "  </tbody>\n",
       "</table>\n",
       "</div>"
      ],
      "text/plain": [
       "         id            keyword                       location  \\\n",
       "5549   7915          rainstorm         Coventry, Rhode Island   \n",
       "3094   4441        electrocute                    Houston, TX   \n",
       "5149   7343  nuclear%20reactor                       Virginia   \n",
       "279     407         apocalypse                            NaN   \n",
       "7143  10236            volcano  Santiago de Cmpostela Galicia   \n",
       "\n",
       "                                                                                                                                              text  \\\n",
       "5549                                                Going to the beach with Jim Alves means a guaranteed rainstorm.  #lucky http://t.co/fejs0Bu0sq   \n",
       "3094  @FoxNews He still has his beard - has he been visited by any1 while in prison? If he keeps that hideous beard electrocute him! \\n#UglyPeople   \n",
       "5149                                            HamptonRoadsFor.me US Navy Sidelines 3 Newest Subs - http://t.co/9QNQ45Zduw http://t.co/dhyLJllRHL   \n",
       "279                       She's kinda hot played on the radio today. What's next? Disease to all? The apocalypse has started everyone. Be careful.   \n",
       "7143                             I added a video to a @YouTube playlist http://t.co/y2Mt6v13E8 Doc: Volcanoes and Earthquakes - Inside the Volcano   \n",
       "\n",
       "      target  \n",
       "5549       0  \n",
       "3094       1  \n",
       "5149       0  \n",
       "279        0  \n",
       "7143       1  "
      ]
     },
     "execution_count": 320,
     "metadata": {},
     "output_type": "execute_result"
    }
   ],
   "source": [
    "# check random sample to get some more understanding on the keyword & location\n",
    "twdata.sample(n=5)"
   ]
  },
  {
   "cell_type": "code",
   "execution_count": 321,
   "metadata": {},
   "outputs": [
    {
     "data": {
      "text/plain": [
       "id             0\n",
       "keyword       61\n",
       "location    2533\n",
       "text           0\n",
       "target         0\n",
       "dtype: int64"
      ]
     },
     "execution_count": 321,
     "metadata": {},
     "output_type": "execute_result"
    }
   ],
   "source": [
    "twdata.isnull().sum()"
   ]
  },
  {
   "cell_type": "code",
   "execution_count": 322,
   "metadata": {},
   "outputs": [
    {
     "name": "stdout",
     "output_type": "stream",
     "text": [
      "training data shape (7613, 5), test data shape (3263, 4)\n"
     ]
    }
   ],
   "source": [
    "print('training data shape {}, test data shape {}'.format(twdata.shape,testdata.shape))"
   ]
  },
  {
   "cell_type": "markdown",
   "metadata": {},
   "source": [
    "# EDA"
   ]
  },
  {
   "cell_type": "markdown",
   "metadata": {},
   "source": [
    "**'location' does not contain valid data and many places they are missing. So will drop this feature.**"
   ]
  },
  {
   "cell_type": "code",
   "execution_count": null,
   "metadata": {},
   "outputs": [],
   "source": []
  },
  {
   "cell_type": "markdown",
   "metadata": {},
   "source": [
    "Analyze the \"keyword\" feature"
   ]
  },
  {
   "cell_type": "code",
   "execution_count": 323,
   "metadata": {},
   "outputs": [],
   "source": [
    "def plot_feature_col(data, col, comment):\n",
    "    keyword_dist=data[col].value_counts()\n",
    "\n",
    "    fig = plt.figure(figsize=(8, 3), dpi=100) # figsize-width,height\n",
    "\n",
    "    keyword_dist[:40].plot.bar()\n",
    "\n",
    "    plt.title(comment)\n",
    "    plt.legend([col+' count'])\n",
    "    plt.show()\n",
    "    \n",
    "    return keyword_dist"
   ]
  },
  {
   "cell_type": "code",
   "execution_count": 324,
   "metadata": {},
   "outputs": [
    {
     "data": {
      "image/png": "[encoded data removed]",
      "text/plain": [
       "<Figure size 800x300 with 1 Axes>"
      ]
     },
     "metadata": {
      "needs_background": "light"
     },
     "output_type": "display_data"
    }
   ],
   "source": [
    "keyword_dist_training = plot_feature_col(twdata, 'keyword', 'keyword Distribution in training data')"
   ]
  },
  {
   "cell_type": "code",
   "execution_count": 325,
   "metadata": {},
   "outputs": [
    {
     "data": {
      "text/plain": [
       "fatalities             45\n",
       "deluge                 42\n",
       "armageddon             42\n",
       "body%20bags            41\n",
       "damage                 41\n",
       "                       ..\n",
       "hijacker               35\n",
       "airplane%20accident    35\n",
       "screams                35\n",
       "rescuers               35\n",
       "inundated              35\n",
       "Name: keyword, Length: 100, dtype: int64"
      ]
     },
     "execution_count": 325,
     "metadata": {},
     "output_type": "execute_result"
    }
   ],
   "source": [
    "keyword_dist_training[:100]"
   ]
  },
  {
   "cell_type": "code",
   "execution_count": 326,
   "metadata": {},
   "outputs": [
    {
     "data": {
      "text/html": [
       "<div>\n",
       "<style scoped>\n",
       "    .dataframe tbody tr th:only-of-type {\n",
       "        vertical-align: middle;\n",
       "    }\n",
       "\n",
       "    .dataframe tbody tr th {\n",
       "        vertical-align: top;\n",
       "    }\n",
       "\n",
       "    .dataframe thead th {\n",
       "        text-align: right;\n",
       "    }\n",
       "</style>\n",
       "<table border=\"1\" class=\"dataframe\">\n",
       "  <thead>\n",
       "    <tr style=\"text-align: right;\">\n",
       "      <th></th>\n",
       "      <th>id</th>\n",
       "      <th>keyword</th>\n",
       "      <th>location</th>\n",
       "      <th>text</th>\n",
       "      <th>target</th>\n",
       "    </tr>\n",
       "  </thead>\n",
       "  <tbody>\n",
       "    <tr>\n",
       "      <td>2721</td>\n",
       "      <td>3907</td>\n",
       "      <td>devastated</td>\n",
       "      <td>NaN</td>\n",
       "      <td>Obama declares disaster for typhoon-devastated Saipan #Worldnews http://t.co/9NYXjndoRA</td>\n",
       "      <td>1</td>\n",
       "    </tr>\n",
       "    <tr>\n",
       "      <td>5029</td>\n",
       "      <td>7171</td>\n",
       "      <td>mudslide</td>\n",
       "      <td>NaN</td>\n",
       "      <td>RT RabidMonkeys1: Ah  the unique mudslide cake ??#GBBO http://t.co/ZT5OFbiwtD</td>\n",
       "      <td>0</td>\n",
       "    </tr>\n",
       "    <tr>\n",
       "      <td>6515</td>\n",
       "      <td>9317</td>\n",
       "      <td>survive</td>\n",
       "      <td>Kansas</td>\n",
       "      <td>Escaping her captors was the 1st step. Now she must survive a deadly storm &amp;amp; a wild-looking recluse.\\nBETRAYED\\nhttp://t.co/0Q040STkCV\\n#books</td>\n",
       "      <td>1</td>\n",
       "    </tr>\n",
       "    <tr>\n",
       "      <td>4314</td>\n",
       "      <td>6126</td>\n",
       "      <td>hellfire</td>\n",
       "      <td>Silvermoon or Ironforge</td>\n",
       "      <td>Fel Lord Zakuun is about to DIE ! #Hellfire #WOD http://t.co/x1oNV3d5uX</td>\n",
       "      <td>1</td>\n",
       "    </tr>\n",
       "    <tr>\n",
       "      <td>3648</td>\n",
       "      <td>5197</td>\n",
       "      <td>fatalities</td>\n",
       "      <td>Jogja, Indonesia Slowly Asia</td>\n",
       "      <td>Mortal Kombat X is an excellent fatalities and the most fun IÛªve ever had with a mortal kombat SEGA's version http://t.co/fLO8fgy35A</td>\n",
       "      <td>0</td>\n",
       "    </tr>\n",
       "    <tr>\n",
       "      <td>1581</td>\n",
       "      <td>2282</td>\n",
       "      <td>cliff%20fall</td>\n",
       "      <td>livin life in the 610</td>\n",
       "      <td>I accidentally killed an 87 day snap streak and now I wanna accidentally fall off a cliff ????????????????????</td>\n",
       "      <td>1</td>\n",
       "    </tr>\n",
       "    <tr>\n",
       "      <td>3808</td>\n",
       "      <td>5410</td>\n",
       "      <td>fire%20truck</td>\n",
       "      <td>Aracaju - Sergipe</td>\n",
       "      <td>#NJTurnpike å_ #NJTurnpike Reopens Hours After Truck Fire In? http://t.co/oABJZtbVyZ http://t.co/GPBXRrDc07</td>\n",
       "      <td>1</td>\n",
       "    </tr>\n",
       "    <tr>\n",
       "      <td>268</td>\n",
       "      <td>389</td>\n",
       "      <td>annihilation</td>\n",
       "      <td>NaN</td>\n",
       "      <td>THANKS!!!!! @COUNT DANTE.  :)  DO JOIN US BY FOLLOWING THE @ANNIHILATION ZONE.  JOHNNY.</td>\n",
       "      <td>0</td>\n",
       "    </tr>\n",
       "    <tr>\n",
       "      <td>1691</td>\n",
       "      <td>2441</td>\n",
       "      <td>collide</td>\n",
       "      <td>Houston, Texas</td>\n",
       "      <td>When Houston and NYC collide. ?? @pageparkescorp @chloeunguyen @laurensicle @charstevens97 @tiara_marei #gemma #boweÛ_ http://t.co/9wowPs78VD</td>\n",
       "      <td>1</td>\n",
       "    </tr>\n",
       "    <tr>\n",
       "      <td>1122</td>\n",
       "      <td>1618</td>\n",
       "      <td>bombed</td>\n",
       "      <td>NaN</td>\n",
       "      <td>Me trying to pass lax with my family ends up by me having to run after the ball after it gets bombed over my head</td>\n",
       "      <td>0</td>\n",
       "    </tr>\n",
       "  </tbody>\n",
       "</table>\n",
       "</div>"
      ],
      "text/plain": [
       "        id       keyword                      location  \\\n",
       "2721  3907    devastated                           NaN   \n",
       "5029  7171      mudslide                           NaN   \n",
       "6515  9317       survive                        Kansas   \n",
       "4314  6126      hellfire       Silvermoon or Ironforge   \n",
       "3648  5197    fatalities  Jogja, Indonesia Slowly Asia   \n",
       "1581  2282  cliff%20fall         livin life in the 610   \n",
       "3808  5410  fire%20truck             Aracaju - Sergipe   \n",
       "268    389  annihilation                           NaN   \n",
       "1691  2441       collide                Houston, Texas   \n",
       "1122  1618        bombed                           NaN   \n",
       "\n",
       "                                                                                                                                                    text  \\\n",
       "2721                                                             Obama declares disaster for typhoon-devastated Saipan #Worldnews http://t.co/9NYXjndoRA   \n",
       "5029                                                                       RT RabidMonkeys1: Ah  the unique mudslide cake ??#GBBO http://t.co/ZT5OFbiwtD   \n",
       "6515  Escaping her captors was the 1st step. Now she must survive a deadly storm &amp; a wild-looking recluse.\\nBETRAYED\\nhttp://t.co/0Q040STkCV\\n#books   \n",
       "4314                                                                             Fel Lord Zakuun is about to DIE ! #Hellfire #WOD http://t.co/x1oNV3d5uX   \n",
       "3648              Mortal Kombat X is an excellent fatalities and the most fun IÛªve ever had with a mortal kombat SEGA's version http://t.co/fLO8fgy35A   \n",
       "1581                                      I accidentally killed an 87 day snap streak and now I wanna accidentally fall off a cliff ????????????????????   \n",
       "3808                                         #NJTurnpike å_ #NJTurnpike Reopens Hours After Truck Fire In? http://t.co/oABJZtbVyZ http://t.co/GPBXRrDc07   \n",
       "268                                                              THANKS!!!!! @COUNT DANTE.  :)  DO JOIN US BY FOLLOWING THE @ANNIHILATION ZONE.  JOHNNY.   \n",
       "1691      When Houston and NYC collide. ?? @pageparkescorp @chloeunguyen @laurensicle @charstevens97 @tiara_marei #gemma #boweÛ_ http://t.co/9wowPs78VD   \n",
       "1122                                   Me trying to pass lax with my family ends up by me having to run after the ball after it gets bombed over my head   \n",
       "\n",
       "      target  \n",
       "2721       1  \n",
       "5029       0  \n",
       "6515       1  \n",
       "4314       1  \n",
       "3648       0  \n",
       "1581       1  \n",
       "3808       1  \n",
       "268        0  \n",
       "1691       1  \n",
       "1122       0  "
      ]
     },
     "execution_count": 326,
     "metadata": {},
     "output_type": "execute_result"
    }
   ],
   "source": [
    "pd.options.display.max_colwidth = 200  # set a value as required for better visualization\n",
    "\n",
    "twdata.sample(n=10)"
   ]
  },
  {
   "cell_type": "markdown",
   "metadata": {},
   "source": [
    "**Check the test data keyword distribution**"
   ]
  },
  {
   "cell_type": "code",
   "execution_count": 327,
   "metadata": {},
   "outputs": [
    {
     "data": {
      "image/png": "[encoded data removed]",
      "text/plain": [
       "<Figure size 800x300 with 1 Axes>"
      ]
     },
     "metadata": {
      "needs_background": "light"
     },
     "output_type": "display_data"
    }
   ],
   "source": [
    "# check the keyword distribution using plot\n",
    "keyword_dist_test = plot_feature_col(testdata, 'keyword', 'keyword Distribution in test data')"
   ]
  },
  {
   "cell_type": "code",
   "execution_count": 328,
   "metadata": {},
   "outputs": [
    {
     "data": {
      "text/plain": [
       "deluged                23\n",
       "demolished             22\n",
       "rubble                 22\n",
       "first%20responders     21\n",
       "obliteration           21\n",
       "                       ..\n",
       "casualties             15\n",
       "airplane%20accident    15\n",
       "tornado                15\n",
       "hazardous              15\n",
       "rescuers               15\n",
       "Name: keyword, Length: 100, dtype: int64"
      ]
     },
     "execution_count": 328,
     "metadata": {},
     "output_type": "execute_result"
    }
   ],
   "source": [
    "keyword_dist_test[:100]"
   ]
  },
  {
   "cell_type": "markdown",
   "metadata": {},
   "source": [
    "**From the above analysis its observed that most of the times keyword's are allready present in the text and some time not.**\n",
    "**Also many keyword's are common in training & test data.**\n",
    "**Will combine the keyword and text features for further analysis**"
   ]
  },
  {
   "cell_type": "code",
   "execution_count": 329,
   "metadata": {},
   "outputs": [],
   "source": [
    "# for keyword fill the NaN values as NAN, will remove the same later\n",
    "twdata['keyword'].fillna('NAN', inplace=True)\n",
    "testdata['keyword'].fillna('NAN', inplace=True)"
   ]
  },
  {
   "cell_type": "code",
   "execution_count": 330,
   "metadata": {},
   "outputs": [],
   "source": [
    "twdata['text']=twdata['text'] + \" \" + twdata['keyword']\n",
    "testdata['text']=testdata['text'] + \" \" + testdata['keyword']"
   ]
  },
  {
   "cell_type": "code",
   "execution_count": 331,
   "metadata": {},
   "outputs": [
    {
     "data": {
      "text/html": [
       "<div>\n",
       "<style scoped>\n",
       "    .dataframe tbody tr th:only-of-type {\n",
       "        vertical-align: middle;\n",
       "    }\n",
       "\n",
       "    .dataframe tbody tr th {\n",
       "        vertical-align: top;\n",
       "    }\n",
       "\n",
       "    .dataframe thead th {\n",
       "        text-align: right;\n",
       "    }\n",
       "</style>\n",
       "<table border=\"1\" class=\"dataframe\">\n",
       "  <thead>\n",
       "    <tr style=\"text-align: right;\">\n",
       "      <th></th>\n",
       "      <th>id</th>\n",
       "      <th>keyword</th>\n",
       "      <th>location</th>\n",
       "      <th>text</th>\n",
       "      <th>target</th>\n",
       "    </tr>\n",
       "  </thead>\n",
       "  <tbody>\n",
       "    <tr>\n",
       "      <td>124</td>\n",
       "      <td>178</td>\n",
       "      <td>aftershock</td>\n",
       "      <td>United States</td>\n",
       "      <td>&amp;gt;&amp;gt; $15 Aftershock : Protect Yourself and Profit in the Next Global Financial... ##book http://t.co/f6ntUc734Z\\n@esquireattire aftershock</td>\n",
       "      <td>0</td>\n",
       "    </tr>\n",
       "    <tr>\n",
       "      <td>132</td>\n",
       "      <td>191</td>\n",
       "      <td>aftershock</td>\n",
       "      <td>NaN</td>\n",
       "      <td>Aftershock back to school kick off was great. I want to thank everyone for making it possible. What a great night. aftershock</td>\n",
       "      <td>0</td>\n",
       "    </tr>\n",
       "    <tr>\n",
       "      <td>2196</td>\n",
       "      <td>3145</td>\n",
       "      <td>debris</td>\n",
       "      <td>Hong Kong</td>\n",
       "      <td>Plane debris is from missing MH370 http://t.co/kxy56FR8vM debris</td>\n",
       "      <td>1</td>\n",
       "    </tr>\n",
       "    <tr>\n",
       "      <td>1933</td>\n",
       "      <td>2780</td>\n",
       "      <td>curfew</td>\n",
       "      <td>NaN</td>\n",
       "      <td>@ScotRail i be seen them turn a blind eye to a bloke drinking and smoking on during the curfew time cos'its not worth the hassle' curfew</td>\n",
       "      <td>1</td>\n",
       "    </tr>\n",
       "    <tr>\n",
       "      <td>2881</td>\n",
       "      <td>4141</td>\n",
       "      <td>drought</td>\n",
       "      <td>miami</td>\n",
       "      <td>@_gaabyx we got purple activist I thought it was a drought drought</td>\n",
       "      <td>1</td>\n",
       "    </tr>\n",
       "  </tbody>\n",
       "</table>\n",
       "</div>"
      ],
      "text/plain": [
       "        id     keyword       location  \\\n",
       "124    178  aftershock  United States   \n",
       "132    191  aftershock            NaN   \n",
       "2196  3145      debris      Hong Kong   \n",
       "1933  2780      curfew            NaN   \n",
       "2881  4141     drought          miami   \n",
       "\n",
       "                                                                                                                                                text  \\\n",
       "124   &gt;&gt; $15 Aftershock : Protect Yourself and Profit in the Next Global Financial... ##book http://t.co/f6ntUc734Z\\n@esquireattire aftershock   \n",
       "132                    Aftershock back to school kick off was great. I want to thank everyone for making it possible. What a great night. aftershock   \n",
       "2196                                                                                Plane debris is from missing MH370 http://t.co/kxy56FR8vM debris   \n",
       "1933        @ScotRail i be seen them turn a blind eye to a bloke drinking and smoking on during the curfew time cos'its not worth the hassle' curfew   \n",
       "2881                                                                              @_gaabyx we got purple activist I thought it was a drought drought   \n",
       "\n",
       "      target  \n",
       "124        0  \n",
       "132        0  \n",
       "2196       1  \n",
       "1933       1  \n",
       "2881       1  "
      ]
     },
     "execution_count": 331,
     "metadata": {},
     "output_type": "execute_result"
    }
   ],
   "source": [
    "twdata.sample(5)"
   ]
  },
  {
   "cell_type": "code",
   "execution_count": 332,
   "metadata": {},
   "outputs": [
    {
     "data": {
      "text/html": [
       "<div>\n",
       "<style scoped>\n",
       "    .dataframe tbody tr th:only-of-type {\n",
       "        vertical-align: middle;\n",
       "    }\n",
       "\n",
       "    .dataframe tbody tr th {\n",
       "        vertical-align: top;\n",
       "    }\n",
       "\n",
       "    .dataframe thead th {\n",
       "        text-align: right;\n",
       "    }\n",
       "</style>\n",
       "<table border=\"1\" class=\"dataframe\">\n",
       "  <thead>\n",
       "    <tr style=\"text-align: right;\">\n",
       "      <th></th>\n",
       "      <th>id</th>\n",
       "      <th>keyword</th>\n",
       "      <th>location</th>\n",
       "      <th>text</th>\n",
       "    </tr>\n",
       "  </thead>\n",
       "  <tbody>\n",
       "    <tr>\n",
       "      <td>374</td>\n",
       "      <td>1197</td>\n",
       "      <td>blizzard</td>\n",
       "      <td>New York</td>\n",
       "      <td>GUNNAR Optiks -Heroes of the Storm Siege Gaming Glasses - Onyx/Fire wow blizzard - Full reÛ_ http://t.co/YEUQp0VKwU http://t.co/OuGM0yxQMo blizzard</td>\n",
       "    </tr>\n",
       "    <tr>\n",
       "      <td>1777</td>\n",
       "      <td>6008</td>\n",
       "      <td>hazardous</td>\n",
       "      <td>NaN</td>\n",
       "      <td>#diablo #dsp Olap #world pres: http://t.co/LFEtNRXyWt How To Recognize A Hazardous Waste And The Multidimensio http://t.co/PvNvqaXsA7 hazardous</td>\n",
       "    </tr>\n",
       "    <tr>\n",
       "      <td>2530</td>\n",
       "      <td>8442</td>\n",
       "      <td>screamed</td>\n",
       "      <td>NaN</td>\n",
       "      <td>I screamed when @g_montani @jessemontani were running to John for 1st place! I'm so happy I love you guys ?? #AmazingRaceCanada screamed</td>\n",
       "    </tr>\n",
       "    <tr>\n",
       "      <td>979</td>\n",
       "      <td>3238</td>\n",
       "      <td>deluged</td>\n",
       "      <td>NaN</td>\n",
       "      <td>Businesses are deluged with ivoices. Make yours stand out with colour or shape and it's likely to ris; to the top of the pay' pile. deluged</td>\n",
       "    </tr>\n",
       "    <tr>\n",
       "      <td>1504</td>\n",
       "      <td>5011</td>\n",
       "      <td>eyewitness</td>\n",
       "      <td>Washington DC</td>\n",
       "      <td>Hero of capitalism: Sprint employee promotes Sprint while Fox News interviews him as a shooting eyewitness: https://t.co/DtRPhCTmJx eyewitness</td>\n",
       "    </tr>\n",
       "  </tbody>\n",
       "</table>\n",
       "</div>"
      ],
      "text/plain": [
       "        id     keyword       location  \\\n",
       "374   1197    blizzard       New York   \n",
       "1777  6008   hazardous            NaN   \n",
       "2530  8442    screamed            NaN   \n",
       "979   3238     deluged            NaN   \n",
       "1504  5011  eyewitness  Washington DC   \n",
       "\n",
       "                                                                                                                                                      text  \n",
       "374   GUNNAR Optiks -Heroes of the Storm Siege Gaming Glasses - Onyx/Fire wow blizzard - Full reÛ_ http://t.co/YEUQp0VKwU http://t.co/OuGM0yxQMo blizzard  \n",
       "1777       #diablo #dsp Olap #world pres: http://t.co/LFEtNRXyWt How To Recognize A Hazardous Waste And The Multidimensio http://t.co/PvNvqaXsA7 hazardous  \n",
       "2530              I screamed when @g_montani @jessemontani were running to John for 1st place! I'm so happy I love you guys ?? #AmazingRaceCanada screamed  \n",
       "979            Businesses are deluged with ivoices. Make yours stand out with colour or shape and it's likely to ris; to the top of the pay' pile. deluged  \n",
       "1504        Hero of capitalism: Sprint employee promotes Sprint while Fox News interviews him as a shooting eyewitness: https://t.co/DtRPhCTmJx eyewitness  "
      ]
     },
     "execution_count": 332,
     "metadata": {},
     "output_type": "execute_result"
    }
   ],
   "source": [
    "testdata.sample(5)"
   ]
  },
  {
   "cell_type": "code",
   "execution_count": 333,
   "metadata": {},
   "outputs": [],
   "source": [
    "# drop location & keyword column\n",
    "twdata.drop(columns=['location','keyword'],axis=1, inplace=True)\n",
    "testdata.drop(columns=['location','keyword'],axis=1, inplace=True)"
   ]
  },
  {
   "cell_type": "code",
   "execution_count": 334,
   "metadata": {},
   "outputs": [],
   "source": [
    "# verify the final tables"
   ]
  },
  {
   "cell_type": "code",
   "execution_count": 335,
   "metadata": {},
   "outputs": [
    {
     "data": {
      "text/html": [
       "<div>\n",
       "<style scoped>\n",
       "    .dataframe tbody tr th:only-of-type {\n",
       "        vertical-align: middle;\n",
       "    }\n",
       "\n",
       "    .dataframe tbody tr th {\n",
       "        vertical-align: top;\n",
       "    }\n",
       "\n",
       "    .dataframe thead th {\n",
       "        text-align: right;\n",
       "    }\n",
       "</style>\n",
       "<table border=\"1\" class=\"dataframe\">\n",
       "  <thead>\n",
       "    <tr style=\"text-align: right;\">\n",
       "      <th></th>\n",
       "      <th>id</th>\n",
       "      <th>text</th>\n",
       "      <th>target</th>\n",
       "    </tr>\n",
       "  </thead>\n",
       "  <tbody>\n",
       "    <tr>\n",
       "      <td>0</td>\n",
       "      <td>1</td>\n",
       "      <td>Our Deeds are the Reason of this #earthquake May ALLAH Forgive us all NAN</td>\n",
       "      <td>1</td>\n",
       "    </tr>\n",
       "    <tr>\n",
       "      <td>1</td>\n",
       "      <td>4</td>\n",
       "      <td>Forest fire near La Ronge Sask. Canada NAN</td>\n",
       "      <td>1</td>\n",
       "    </tr>\n",
       "  </tbody>\n",
       "</table>\n",
       "</div>"
      ],
      "text/plain": [
       "   id  \\\n",
       "0   1   \n",
       "1   4   \n",
       "\n",
       "                                                                        text  \\\n",
       "0  Our Deeds are the Reason of this #earthquake May ALLAH Forgive us all NAN   \n",
       "1                                 Forest fire near La Ronge Sask. Canada NAN   \n",
       "\n",
       "   target  \n",
       "0       1  \n",
       "1       1  "
      ]
     },
     "execution_count": 335,
     "metadata": {},
     "output_type": "execute_result"
    }
   ],
   "source": [
    "twdata.head(2)"
   ]
  },
  {
   "cell_type": "code",
   "execution_count": 336,
   "metadata": {},
   "outputs": [
    {
     "data": {
      "text/html": [
       "<div>\n",
       "<style scoped>\n",
       "    .dataframe tbody tr th:only-of-type {\n",
       "        vertical-align: middle;\n",
       "    }\n",
       "\n",
       "    .dataframe tbody tr th {\n",
       "        vertical-align: top;\n",
       "    }\n",
       "\n",
       "    .dataframe thead th {\n",
       "        text-align: right;\n",
       "    }\n",
       "</style>\n",
       "<table border=\"1\" class=\"dataframe\">\n",
       "  <thead>\n",
       "    <tr style=\"text-align: right;\">\n",
       "      <th></th>\n",
       "      <th>id</th>\n",
       "      <th>text</th>\n",
       "      <th>target</th>\n",
       "    </tr>\n",
       "  </thead>\n",
       "  <tbody>\n",
       "    <tr>\n",
       "      <td>0</td>\n",
       "      <td>1</td>\n",
       "      <td>Our Deeds are the Reason of this #earthquake May ALLAH Forgive us all NAN</td>\n",
       "      <td>1</td>\n",
       "    </tr>\n",
       "    <tr>\n",
       "      <td>1</td>\n",
       "      <td>4</td>\n",
       "      <td>Forest fire near La Ronge Sask. Canada NAN</td>\n",
       "      <td>1</td>\n",
       "    </tr>\n",
       "  </tbody>\n",
       "</table>\n",
       "</div>"
      ],
      "text/plain": [
       "   id  \\\n",
       "0   1   \n",
       "1   4   \n",
       "\n",
       "                                                                        text  \\\n",
       "0  Our Deeds are the Reason of this #earthquake May ALLAH Forgive us all NAN   \n",
       "1                                 Forest fire near La Ronge Sask. Canada NAN   \n",
       "\n",
       "   target  \n",
       "0       1  \n",
       "1       1  "
      ]
     },
     "execution_count": 336,
     "metadata": {},
     "output_type": "execute_result"
    }
   ],
   "source": [
    "twdata.head(2)"
   ]
  },
  {
   "cell_type": "code",
   "execution_count": 337,
   "metadata": {},
   "outputs": [
    {
     "data": {
      "text/plain": [
       "id        0\n",
       "text      0\n",
       "target    0\n",
       "dtype: int64"
      ]
     },
     "execution_count": 337,
     "metadata": {},
     "output_type": "execute_result"
    }
   ],
   "source": [
    "twdata.isnull().sum()"
   ]
  },
  {
   "cell_type": "code",
   "execution_count": 338,
   "metadata": {},
   "outputs": [
    {
     "data": {
      "text/plain": [
       "id      0\n",
       "text    0\n",
       "dtype: int64"
      ]
     },
     "execution_count": 338,
     "metadata": {},
     "output_type": "execute_result"
    }
   ],
   "source": [
    "testdata.isnull().sum()"
   ]
  },
  {
   "cell_type": "code",
   "execution_count": null,
   "metadata": {},
   "outputs": [],
   "source": []
  },
  {
   "cell_type": "markdown",
   "metadata": {},
   "source": [
    "**plot the 'target' to understand its distribution**"
   ]
  },
  {
   "cell_type": "code",
   "execution_count": 339,
   "metadata": {},
   "outputs": [
    {
     "data": {
      "image/png": "[encoded data removed]",
      "text/plain": [
       "<Figure size 800x300 with 1 Axes>"
      ]
     },
     "metadata": {
      "needs_background": "light"
     },
     "output_type": "display_data"
    }
   ],
   "source": [
    "target_dist_training = plot_feature_col(twdata, 'target', 'target distribution in training data')"
   ]
  },
  {
   "cell_type": "markdown",
   "metadata": {},
   "source": [
    "**there is no big gap between two different kind of taget types, will go with this as it is**"
   ]
  },
  {
   "cell_type": "code",
   "execution_count": null,
   "metadata": {},
   "outputs": [],
   "source": []
  },
  {
   "cell_type": "markdown",
   "metadata": {},
   "source": [
    "# Remove noise from data\n",
    "Here train & test data both consists of lot of noise (stop words, delimeters, special symbols, lower case etc.) that need to be removed before we process the data further."
   ]
  },
  {
   "cell_type": "code",
   "execution_count": 340,
   "metadata": {},
   "outputs": [],
   "source": [
    "def _to_lower(datax, col):\n",
    "    \"\"\" convert to lower case \"\"\"\n",
    "    datax['clean_text'] = datax[col].apply(lambda x: x.lower())\n"
   ]
  },
  {
   "cell_type": "code",
   "execution_count": 341,
   "metadata": {},
   "outputs": [
    {
     "data": {
      "text/html": [
       "<div>\n",
       "<style scoped>\n",
       "    .dataframe tbody tr th:only-of-type {\n",
       "        vertical-align: middle;\n",
       "    }\n",
       "\n",
       "    .dataframe tbody tr th {\n",
       "        vertical-align: top;\n",
       "    }\n",
       "\n",
       "    .dataframe thead th {\n",
       "        text-align: right;\n",
       "    }\n",
       "</style>\n",
       "<table border=\"1\" class=\"dataframe\">\n",
       "  <thead>\n",
       "    <tr style=\"text-align: right;\">\n",
       "      <th></th>\n",
       "      <th>id</th>\n",
       "      <th>text</th>\n",
       "      <th>target</th>\n",
       "      <th>clean_text</th>\n",
       "    </tr>\n",
       "  </thead>\n",
       "  <tbody>\n",
       "    <tr>\n",
       "      <td>0</td>\n",
       "      <td>1</td>\n",
       "      <td>Our Deeds are the Reason of this #earthquake May ALLAH Forgive us all NAN</td>\n",
       "      <td>1</td>\n",
       "      <td>our deeds are the reason of this #earthquake may allah forgive us all nan</td>\n",
       "    </tr>\n",
       "    <tr>\n",
       "      <td>1</td>\n",
       "      <td>4</td>\n",
       "      <td>Forest fire near La Ronge Sask. Canada NAN</td>\n",
       "      <td>1</td>\n",
       "      <td>forest fire near la ronge sask. canada nan</td>\n",
       "    </tr>\n",
       "  </tbody>\n",
       "</table>\n",
       "</div>"
      ],
      "text/plain": [
       "   id  \\\n",
       "0   1   \n",
       "1   4   \n",
       "\n",
       "                                                                        text  \\\n",
       "0  Our Deeds are the Reason of this #earthquake May ALLAH Forgive us all NAN   \n",
       "1                                 Forest fire near La Ronge Sask. Canada NAN   \n",
       "\n",
       "   target  \\\n",
       "0       1   \n",
       "1       1   \n",
       "\n",
       "                                                                  clean_text  \n",
       "0  our deeds are the reason of this #earthquake may allah forgive us all nan  \n",
       "1                                 forest fire near la ronge sask. canada nan  "
      ]
     },
     "execution_count": 341,
     "metadata": {},
     "output_type": "execute_result"
    }
   ],
   "source": [
    "_to_lower(twdata, 'text')\n",
    "_to_lower(testdata, 'text')\n",
    "twdata.head(2)"
   ]
  },
  {
   "cell_type": "code",
   "execution_count": 342,
   "metadata": {},
   "outputs": [],
   "source": [
    "# load spacy for few other cleaning\n",
    "nlp = spacy.load('en_core_web_sm')"
   ]
  },
  {
   "cell_type": "code",
   "execution_count": 343,
   "metadata": {},
   "outputs": [],
   "source": [
    "# tokenize \n",
    "twdata['clean_text']=twdata['clean_text'].apply(lambda x: list(nlp(x)))"
   ]
  },
  {
   "cell_type": "code",
   "execution_count": 344,
   "metadata": {},
   "outputs": [
    {
     "data": {
      "text/html": [
       "<div>\n",
       "<style scoped>\n",
       "    .dataframe tbody tr th:only-of-type {\n",
       "        vertical-align: middle;\n",
       "    }\n",
       "\n",
       "    .dataframe tbody tr th {\n",
       "        vertical-align: top;\n",
       "    }\n",
       "\n",
       "    .dataframe thead th {\n",
       "        text-align: right;\n",
       "    }\n",
       "</style>\n",
       "<table border=\"1\" class=\"dataframe\">\n",
       "  <thead>\n",
       "    <tr style=\"text-align: right;\">\n",
       "      <th></th>\n",
       "      <th>id</th>\n",
       "      <th>text</th>\n",
       "      <th>target</th>\n",
       "      <th>clean_text</th>\n",
       "    </tr>\n",
       "  </thead>\n",
       "  <tbody>\n",
       "    <tr>\n",
       "      <td>0</td>\n",
       "      <td>1</td>\n",
       "      <td>Our Deeds are the Reason of this #earthquake May ALLAH Forgive us all NAN</td>\n",
       "      <td>1</td>\n",
       "      <td>[our, deeds, are, the, reason, of, this, #, earthquake, may, allah, forgive, us, all, nan]</td>\n",
       "    </tr>\n",
       "    <tr>\n",
       "      <td>1</td>\n",
       "      <td>4</td>\n",
       "      <td>Forest fire near La Ronge Sask. Canada NAN</td>\n",
       "      <td>1</td>\n",
       "      <td>[forest, fire, near, la, ronge, sask, ., canada, nan]</td>\n",
       "    </tr>\n",
       "  </tbody>\n",
       "</table>\n",
       "</div>"
      ],
      "text/plain": [
       "   id  \\\n",
       "0   1   \n",
       "1   4   \n",
       "\n",
       "                                                                        text  \\\n",
       "0  Our Deeds are the Reason of this #earthquake May ALLAH Forgive us all NAN   \n",
       "1                                 Forest fire near La Ronge Sask. Canada NAN   \n",
       "\n",
       "   target  \\\n",
       "0       1   \n",
       "1       1   \n",
       "\n",
       "                                                                                   clean_text  \n",
       "0  [our, deeds, are, the, reason, of, this, #, earthquake, may, allah, forgive, us, all, nan]  \n",
       "1                                       [forest, fire, near, la, ronge, sask, ., canada, nan]  "
      ]
     },
     "execution_count": 344,
     "metadata": {},
     "output_type": "execute_result"
    }
   ],
   "source": [
    "twdata.head(2)"
   ]
  },
  {
   "cell_type": "code",
   "execution_count": 345,
   "metadata": {},
   "outputs": [],
   "source": [
    "def spacy_clean(data, col):\n",
    "    # remove punctuations \n",
    "    data[col] = data[col].apply(lambda x: [t for t in x if (t.is_punct == False)])\n",
    "    \n",
    "    # remove stopwords\n",
    "    data[col] = data[col].apply(lambda x: [t for t in x if (t.is_stop == False)])\n",
    "    \n",
    "    # lemmatize\n",
    "    data[col] = data[col].apply(lambda x: [t.lemma_ for t in x])\n",
    "    \n",
    "    # join it to get back the original sentence\n",
    "    data[col] = data[col].apply(lambda x: \" \".join(x))"
   ]
  },
  {
   "cell_type": "code",
   "execution_count": 346,
   "metadata": {},
   "outputs": [],
   "source": [
    "spacy_clean(twdata, 'clean_text')"
   ]
  },
  {
   "cell_type": "code",
   "execution_count": 347,
   "metadata": {},
   "outputs": [
    {
     "data": {
      "text/html": [
       "<div>\n",
       "<style scoped>\n",
       "    .dataframe tbody tr th:only-of-type {\n",
       "        vertical-align: middle;\n",
       "    }\n",
       "\n",
       "    .dataframe tbody tr th {\n",
       "        vertical-align: top;\n",
       "    }\n",
       "\n",
       "    .dataframe thead th {\n",
       "        text-align: right;\n",
       "    }\n",
       "</style>\n",
       "<table border=\"1\" class=\"dataframe\">\n",
       "  <thead>\n",
       "    <tr style=\"text-align: right;\">\n",
       "      <th></th>\n",
       "      <th>id</th>\n",
       "      <th>text</th>\n",
       "      <th>target</th>\n",
       "      <th>clean_text</th>\n",
       "    </tr>\n",
       "  </thead>\n",
       "  <tbody>\n",
       "    <tr>\n",
       "      <td>0</td>\n",
       "      <td>1</td>\n",
       "      <td>Our Deeds are the Reason of this #earthquake May ALLAH Forgive us all NAN</td>\n",
       "      <td>1</td>\n",
       "      <td>deed reason earthquake allah forgive nan</td>\n",
       "    </tr>\n",
       "    <tr>\n",
       "      <td>1</td>\n",
       "      <td>4</td>\n",
       "      <td>Forest fire near La Ronge Sask. Canada NAN</td>\n",
       "      <td>1</td>\n",
       "      <td>forest fire near la ronge sask canada nan</td>\n",
       "    </tr>\n",
       "    <tr>\n",
       "      <td>2</td>\n",
       "      <td>5</td>\n",
       "      <td>All residents asked to 'shelter in place' are being notified by officers. No other evacuation or shelter in place orders are expected NAN</td>\n",
       "      <td>1</td>\n",
       "      <td>resident ask shelter place notify officer evacuation shelter place order expect nan</td>\n",
       "    </tr>\n",
       "    <tr>\n",
       "      <td>3</td>\n",
       "      <td>6</td>\n",
       "      <td>13,000 people receive #wildfires evacuation orders in California  NAN</td>\n",
       "      <td>1</td>\n",
       "      <td>13,000 people receive wildfire evacuation order california   nan</td>\n",
       "    </tr>\n",
       "    <tr>\n",
       "      <td>4</td>\n",
       "      <td>7</td>\n",
       "      <td>Just got sent this photo from Ruby #Alaska as smoke from #wildfires pours into a school  NAN</td>\n",
       "      <td>1</td>\n",
       "      <td>get send photo ruby alaska smoke wildfire pour school   nan</td>\n",
       "    </tr>\n",
       "  </tbody>\n",
       "</table>\n",
       "</div>"
      ],
      "text/plain": [
       "   id  \\\n",
       "0   1   \n",
       "1   4   \n",
       "2   5   \n",
       "3   6   \n",
       "4   7   \n",
       "\n",
       "                                                                                                                                        text  \\\n",
       "0                                                                  Our Deeds are the Reason of this #earthquake May ALLAH Forgive us all NAN   \n",
       "1                                                                                                 Forest fire near La Ronge Sask. Canada NAN   \n",
       "2  All residents asked to 'shelter in place' are being notified by officers. No other evacuation or shelter in place orders are expected NAN   \n",
       "3                                                                      13,000 people receive #wildfires evacuation orders in California  NAN   \n",
       "4                                               Just got sent this photo from Ruby #Alaska as smoke from #wildfires pours into a school  NAN   \n",
       "\n",
       "   target  \\\n",
       "0       1   \n",
       "1       1   \n",
       "2       1   \n",
       "3       1   \n",
       "4       1   \n",
       "\n",
       "                                                                            clean_text  \n",
       "0                                             deed reason earthquake allah forgive nan  \n",
       "1                                            forest fire near la ronge sask canada nan  \n",
       "2  resident ask shelter place notify officer evacuation shelter place order expect nan  \n",
       "3                     13,000 people receive wildfire evacuation order california   nan  \n",
       "4                          get send photo ruby alaska smoke wildfire pour school   nan  "
      ]
     },
     "execution_count": 347,
     "metadata": {},
     "output_type": "execute_result"
    }
   ],
   "source": [
    "# check the cleaned data\n",
    "twdata.head(5)"
   ]
  },
  {
   "cell_type": "code",
   "execution_count": null,
   "metadata": {},
   "outputs": [],
   "source": []
  },
  {
   "cell_type": "code",
   "execution_count": 380,
   "metadata": {},
   "outputs": [],
   "source": [
    "# this data still has http://, @..., so need to clean further\n",
    "def clean_regex(data, col):\n",
    "    # remove http://\n",
    "    data[col]=data[col].apply(lambda x: re.sub(r'http\\S+', '', x))\n",
    "    # remove '!\"#$%&\\'()*+,-./:;<=>?@[\\\\]^_`{|}~'\n",
    "    data[col]=data[col].apply(lambda text: ''.join([x for x in text if x not in string.punctuation]))\n",
    "    # remove non ascii\n",
    "    data[col]=data[col].apply(lambda text: ''.join([x for x in text if ord(x) < 128]))\n"
   ]
  },
  {
   "cell_type": "code",
   "execution_count": 381,
   "metadata": {},
   "outputs": [],
   "source": [
    "clean_regex(twdata, 'clean_text')"
   ]
  },
  {
   "cell_type": "code",
   "execution_count": 383,
   "metadata": {},
   "outputs": [
    {
     "data": {
      "text/html": [
       "<div>\n",
       "<style scoped>\n",
       "    .dataframe tbody tr th:only-of-type {\n",
       "        vertical-align: middle;\n",
       "    }\n",
       "\n",
       "    .dataframe tbody tr th {\n",
       "        vertical-align: top;\n",
       "    }\n",
       "\n",
       "    .dataframe thead th {\n",
       "        text-align: right;\n",
       "    }\n",
       "</style>\n",
       "<table border=\"1\" class=\"dataframe\">\n",
       "  <thead>\n",
       "    <tr style=\"text-align: right;\">\n",
       "      <th></th>\n",
       "      <th>Unnamed: 0</th>\n",
       "      <th>id</th>\n",
       "      <th>text</th>\n",
       "      <th>target</th>\n",
       "      <th>clean_text</th>\n",
       "    </tr>\n",
       "  </thead>\n",
       "  <tbody>\n",
       "    <tr>\n",
       "      <td>6902</td>\n",
       "      <td>6902</td>\n",
       "      <td>9894</td>\n",
       "      <td>A spider has legit just run across my chest. Traumatised. For. Life. traumatised</td>\n",
       "      <td>0</td>\n",
       "      <td>spider legit run chest traumatise life traumatise</td>\n",
       "    </tr>\n",
       "    <tr>\n",
       "      <td>3468</td>\n",
       "      <td>3468</td>\n",
       "      <td>4961</td>\n",
       "      <td>New Explosion-proof Tempered Glass Screen Protector Film for Blackberry Z10 - Full read byÛ_ http://t.co/ModqNaLWsB http://t.co/4C58oOaVhY explosion</td>\n",
       "      <td>0</td>\n",
       "      <td>new explosion proof temper glass screen protector film blackberry z10 read by   explosion</td>\n",
       "    </tr>\n",
       "    <tr>\n",
       "      <td>1523</td>\n",
       "      <td>1523</td>\n",
       "      <td>2203</td>\n",
       "      <td>Excited not only about the next 6 years of school and ensuing student debt but also catastrophic climate change in my lifetime   \\n\\n:D ?? catastrophic</td>\n",
       "      <td>0</td>\n",
       "      <td>excited 6 year school ensue student debt catastrophic climate change lifetime   \\n\\n d catastrophic</td>\n",
       "    </tr>\n",
       "    <tr>\n",
       "      <td>7310</td>\n",
       "      <td>7310</td>\n",
       "      <td>10462</td>\n",
       "      <td>In Europe nature is kind while in US they have tornados hurricanes wild fires earthquakes flash floods mega snow droughts. wild%20fires</td>\n",
       "      <td>1</td>\n",
       "      <td>europe nature kind tornados hurricane wild fire earthquake flash flood mega snow drought wild20fire</td>\n",
       "    </tr>\n",
       "    <tr>\n",
       "      <td>5376</td>\n",
       "      <td>5376</td>\n",
       "      <td>7672</td>\n",
       "      <td>Every time I feel a new pain or strain in my body I panic because I need it for my career ?? panic</td>\n",
       "      <td>0</td>\n",
       "      <td>time feel new pain strain body panic need career panic</td>\n",
       "    </tr>\n",
       "  </tbody>\n",
       "</table>\n",
       "</div>"
      ],
      "text/plain": [
       "      Unnamed: 0     id  \\\n",
       "6902        6902   9894   \n",
       "3468        3468   4961   \n",
       "1523        1523   2203   \n",
       "7310        7310  10462   \n",
       "5376        5376   7672   \n",
       "\n",
       "                                                                                                                                                         text  \\\n",
       "6902                                                                         A spider has legit just run across my chest. Traumatised. For. Life. traumatised   \n",
       "3468    New Explosion-proof Tempered Glass Screen Protector Film for Blackberry Z10 - Full read byÛ_ http://t.co/ModqNaLWsB http://t.co/4C58oOaVhY explosion   \n",
       "1523  Excited not only about the next 6 years of school and ensuing student debt but also catastrophic climate change in my lifetime   \\n\\n:D ?? catastrophic   \n",
       "7310                  In Europe nature is kind while in US they have tornados hurricanes wild fires earthquakes flash floods mega snow droughts. wild%20fires   \n",
       "5376                                                       Every time I feel a new pain or strain in my body I panic because I need it for my career ?? panic   \n",
       "\n",
       "      target  \\\n",
       "6902       0   \n",
       "3468       0   \n",
       "1523       0   \n",
       "7310       1   \n",
       "5376       0   \n",
       "\n",
       "                                                                                               clean_text  \n",
       "6902                                                    spider legit run chest traumatise life traumatise  \n",
       "3468            new explosion proof temper glass screen protector film blackberry z10 read by   explosion  \n",
       "1523  excited 6 year school ensue student debt catastrophic climate change lifetime   \\n\\n d catastrophic  \n",
       "7310  europe nature kind tornados hurricane wild fire earthquake flash flood mega snow drought wild20fire  \n",
       "5376                                               time feel new pain strain body panic need career panic  "
      ]
     },
     "execution_count": 383,
     "metadata": {},
     "output_type": "execute_result"
    }
   ],
   "source": [
    "twdata.sample(5)"
   ]
  },
  {
   "cell_type": "code",
   "execution_count": 392,
   "metadata": {},
   "outputs": [
    {
     "data": {
      "text/plain": [
       "<matplotlib.axes._subplots.AxesSubplot at 0x1340e2855c8>"
      ]
     },
     "execution_count": 392,
     "metadata": {},
     "output_type": "execute_result"
    },
    {
     "data": {
      "image/png": "[encoded data removed]",
      "text/plain": [
       "<Figure size 432x288 with 1 Axes>"
      ]
     },
     "metadata": {
      "needs_background": "light"
     },
     "output_type": "display_data"
    }
   ],
   "source": [
    "# check the clean text length distribution\n",
    "clean_text_length=[len(x) for x in twdata['clean_text']] \n",
    "sb.distplot(clean_text_length, axlabel='clean_text length', color=\"g\")"
   ]
  },
  {
   "cell_type": "code",
   "execution_count": 400,
   "metadata": {},
   "outputs": [
    {
     "data": {
      "text/plain": [
       "(7613, 5)"
      ]
     },
     "execution_count": 400,
     "metadata": {},
     "output_type": "execute_result"
    }
   ],
   "source": [
    "twdata.shape"
   ]
  },
  {
   "cell_type": "code",
   "execution_count": 401,
   "metadata": {},
   "outputs": [],
   "source": [
    "# because of text cleaning few clean_text fields are zero length.\n",
    "zl_idx=[idx for idx in range(len(clean_text_length)) if clean_text_length[idx]==0]\n",
    "# drop this rows\n",
    "twdata.drop(columns=['clean_text'],axis=0, inplace=True, index=zl_idx)"
   ]
  },
  {
   "cell_type": "code",
   "execution_count": 402,
   "metadata": {},
   "outputs": [
    {
     "data": {
      "text/plain": [
       "(7562, 4)"
      ]
     },
     "execution_count": 402,
     "metadata": {},
     "output_type": "execute_result"
    }
   ],
   "source": [
    "twdata.shape"
   ]
  },
  {
   "cell_type": "code",
   "execution_count": 404,
   "metadata": {},
   "outputs": [],
   "source": [
    "twdata.to_csv('train_clean.csv')"
   ]
  },
  {
   "cell_type": "code",
   "execution_count": null,
   "metadata": {},
   "outputs": [],
   "source": []
  },
  {
   "cell_type": "code",
   "execution_count": null,
   "metadata": {},
   "outputs": [],
   "source": []
  }
 ],
 "metadata": {
  "kernelspec": {
   "display_name": "Python 3",
   "language": "python",
   "name": "python3"
  },
  "language_info": {
   "codemirror_mode": {
    "name": "ipython",
    "version": 3
   },
   "file_extension": ".py",
   "mimetype": "text/x-python",
   "name": "python",
   "nbconvert_exporter": "python",
   "pygments_lexer": "ipython3",
   "version": "3.7.4"
  }
 },
 "nbformat": 4,
 "nbformat_minor": 4
}
